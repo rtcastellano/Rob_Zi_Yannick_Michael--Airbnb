{
 "cells": [
  {
   "cell_type": "code",
   "execution_count": 1,
   "metadata": {
    "collapsed": true
   },
   "outputs": [],
   "source": [
    "import pandas as pd\n",
    "import numpy as np\n",
    "import math\n",
    "import datetime"
   ]
  },
  {
   "cell_type": "code",
   "execution_count": 2,
   "metadata": {
    "collapsed": true
   },
   "outputs": [],
   "source": [
    "train = pd.read_csv('data/train_users_2.csv')\n",
    "test = pd.read_csv('data/test_users.csv')\n",
    "countries = pd.read_csv('data/countries.csv')\n",
    "user_demo = pd.read_csv('data/age_gender_bkts.csv')\n",
    "sessions = pd.read_csv('data/sessions.csv')\n",
    "#changing into datetime\n",
    "train.date_account_created = pd.to_datetime(train.date_account_created)\n",
    "train.timestamp_first_active = pd.to_datetime(train.timestamp_first_active, format = \"%Y%m%d%H%M%S\")\n",
    "train.date_first_booking = pd.to_datetime(train.date_first_booking)\n",
    "test.timestamp_first_active = pd.to_datetime(test.timestamp_first_active, format = \"%Y%m%d%H%M%S\")\n",
    "test.date_account_created = pd.to_datetime(test.date_account_created)\n",
    "\n",
    "train_destination = train.iloc[:,-1]"
   ]
  },
  {
   "cell_type": "code",
   "execution_count": 3,
   "metadata": {
    "collapsed": true
   },
   "outputs": [],
   "source": [
    "unknowntrain = [i for i, j in enumerate(train.gender) if j == '-unknown-']\n",
    "train.loc[unknowntrain, 'gender'] = 'NA'\n",
    "unknowntest = [i for i, j in enumerate(test.gender) if j == '-unknown-']\n",
    "test.loc[unknowntest, 'gender'] = 'NA'\n",
    "\n",
    "#unknowntest = test.gender.index('-unknown-')\n",
    "#test.loc[unknowntest, 'gender'] = 'NA'"
   ]
  },
  {
   "cell_type": "code",
   "execution_count": 4,
   "metadata": {
    "collapsed": false
   },
   "outputs": [
    {
     "data": {
      "text/plain": [
       "array(['FEMALE', 'MALE', 'NA', 'OTHER'], dtype=object)"
      ]
     },
     "execution_count": 4,
     "metadata": {},
     "output_type": "execute_result"
    }
   ],
   "source": [
    "np.unique(train.gender)"
   ]
  },
  {
   "cell_type": "code",
   "execution_count": 5,
   "metadata": {
    "collapsed": true
   },
   "outputs": [],
   "source": [
    "#sessions grouping by user\n",
    "\n",
    "#Group by user_id, aggregate by number of counts (counting device_type as it is never NA), \n",
    "#and total sum of elapsed time in seconds\n",
    "group_sessions = sessions.groupby(\"user_id\").agg({'device_type':'count', 'secs_elapsed':'sum'})\n",
    "#rename columns\n",
    "group_sessions.columns = ['sum_secs_elapsed', 'counts']\n",
    "#group by variable turns into index, I'm reseting the index and putting user_id back as a column\n",
    "group_sessions.reset_index(level=0, inplace=True)"
   ]
  },
  {
   "cell_type": "code",
   "execution_count": 6,
   "metadata": {
    "collapsed": false
   },
   "outputs": [
    {
     "data": {
      "text/html": [
       "<div>\n",
       "<table border=\"1\" class=\"dataframe\">\n",
       "  <thead>\n",
       "    <tr style=\"text-align: right;\">\n",
       "      <th></th>\n",
       "      <th>user_id</th>\n",
       "      <th>sum_secs_elapsed</th>\n",
       "      <th>counts</th>\n",
       "    </tr>\n",
       "  </thead>\n",
       "  <tbody>\n",
       "    <tr>\n",
       "      <th>0</th>\n",
       "      <td>00023iyk9l</td>\n",
       "      <td>867896.0</td>\n",
       "      <td>40</td>\n",
       "    </tr>\n",
       "    <tr>\n",
       "      <th>1</th>\n",
       "      <td>0010k6l0om</td>\n",
       "      <td>586543.0</td>\n",
       "      <td>63</td>\n",
       "    </tr>\n",
       "    <tr>\n",
       "      <th>2</th>\n",
       "      <td>001wyh0pz8</td>\n",
       "      <td>282965.0</td>\n",
       "      <td>90</td>\n",
       "    </tr>\n",
       "    <tr>\n",
       "      <th>3</th>\n",
       "      <td>0028jgx1x1</td>\n",
       "      <td>297010.0</td>\n",
       "      <td>31</td>\n",
       "    </tr>\n",
       "    <tr>\n",
       "      <th>4</th>\n",
       "      <td>002qnbzfs5</td>\n",
       "      <td>6487080.0</td>\n",
       "      <td>789</td>\n",
       "    </tr>\n",
       "  </tbody>\n",
       "</table>\n",
       "</div>"
      ],
      "text/plain": [
       "      user_id  sum_secs_elapsed  counts\n",
       "0  00023iyk9l          867896.0      40\n",
       "1  0010k6l0om          586543.0      63\n",
       "2  001wyh0pz8          282965.0      90\n",
       "3  0028jgx1x1          297010.0      31\n",
       "4  002qnbzfs5         6487080.0     789"
      ]
     },
     "execution_count": 6,
     "metadata": {},
     "output_type": "execute_result"
    }
   ],
   "source": [
    "group_sessions.head()"
   ]
  },
  {
   "cell_type": "code",
   "execution_count": 7,
   "metadata": {
    "collapsed": true
   },
   "outputs": [],
   "source": [
    "#bucket all ages into format that user_demo is in for age\n",
    "def agebuckets(ages):\n",
    "    ageless =  [i for i in range(5,101,5)] # 5, 10, 15, 20...95, 100\n",
    "    buckets = ['%d-%d' %(i, i+4) for i in range(0,100,5)] # 0-4, 5-9, 10-14...90-94, 95-99\n",
    "    newlist = []\n",
    "    for i in range(len(ages)):\n",
    "        if math.isnan(ages[i]):\n",
    "            newlist.append('NA')\n",
    "        elif ages[i] <ageless[0]:\n",
    "            newlist.append(buckets[0])\n",
    "        elif ages[i] < ageless[1]:\n",
    "            newlist.append(buckets[1])\n",
    "        elif ages[i] < ageless[2]:\n",
    "            newlist.append(buckets[2])\n",
    "        elif ages[i] < ageless[3]:\n",
    "            newlist.append(buckets[3])\n",
    "        elif ages[i] < ageless[4]:\n",
    "            newlist.append(buckets[4])\n",
    "        elif ages[i] < ageless[5]:\n",
    "            newlist.append(buckets[5])\n",
    "        elif ages[i] < ageless[6]:\n",
    "            newlist.append(buckets[6])\n",
    "        elif ages[i] < ageless[7]:\n",
    "            newlist.append(buckets[7])\n",
    "        elif ages[i] < ageless[8]:\n",
    "            newlist.append(buckets[8])\n",
    "        elif ages[i] < ageless[9]:\n",
    "            newlist.append(buckets[9])\n",
    "        elif ages[i] < ageless[10]:\n",
    "            newlist.append(buckets[10])\n",
    "        elif ages[i] < ageless[11]:\n",
    "            newlist.append(buckets[11])\n",
    "        elif ages[i] < ageless[12]:\n",
    "            newlist.append(buckets[12]) \n",
    "        elif ages[i] < ageless[13]:\n",
    "            newlist.append(buckets[13]) \n",
    "        elif ages[i] < ageless[14]:\n",
    "            newlist.append(buckets[14])\n",
    "        elif ages[i] < ageless[15]:\n",
    "            newlist.append(buckets[15])\n",
    "        elif ages[i] < ageless[16]:\n",
    "            newlist.append(buckets[16])\n",
    "        elif ages[i] < ageless[17]:\n",
    "            newlist.append(buckets[17])\n",
    "        elif ages[i] < ageless[18]:\n",
    "            newlist.append(buckets[18])\n",
    "        elif ages[i] < ageless[19]:\n",
    "            newlist.append(buckets[19]) \n",
    "        else:\n",
    "            newlist.append('100+')\n",
    "    return newlist"
   ]
  },
  {
   "cell_type": "code",
   "execution_count": 8,
   "metadata": {
    "collapsed": false
   },
   "outputs": [
    {
     "data": {
      "text/plain": [
       "0      NaN\n",
       "1     38.0\n",
       "2     56.0\n",
       "3     42.0\n",
       "4     41.0\n",
       "5      NaN\n",
       "6     46.0\n",
       "7     47.0\n",
       "8     50.0\n",
       "9     46.0\n",
       "10    36.0\n",
       "11    47.0\n",
       "12     NaN\n",
       "13    37.0\n",
       "14    36.0\n",
       "15    33.0\n",
       "16     NaN\n",
       "17    31.0\n",
       "18     NaN\n",
       "19    29.0\n",
       "Name: age, dtype: float64"
      ]
     },
     "execution_count": 8,
     "metadata": {},
     "output_type": "execute_result"
    }
   ],
   "source": [
    "train.age[0:20]"
   ]
  },
  {
   "cell_type": "code",
   "execution_count": 9,
   "metadata": {
    "collapsed": true
   },
   "outputs": [],
   "source": [
    "train.age = agebuckets(train.age)\n",
    "test.age = agebuckets(test.age)"
   ]
  },
  {
   "cell_type": "code",
   "execution_count": 10,
   "metadata": {
    "collapsed": true
   },
   "outputs": [],
   "source": [
    "def timedif(L1, L2):\n",
    "    timediflist = []\n",
    "    for i in range(len(L1)):\n",
    "        try:\n",
    "            if (L1[i]-L2[i]).days <= -1:#datetime.timedelta(days=0):\n",
    "                timediflist.append('before')\n",
    "            elif (L1[i]-L2[i]).days ==0: #datetime.timedelta(days=1):\n",
    "                timediflist.append('same day')\n",
    "            else:\n",
    "                timediflist.append('greater 1 day')\n",
    "        except:\n",
    "            timediflist.append('NB')\n",
    "            \n",
    "    return timediflist"
   ]
  },
  {
   "cell_type": "code",
   "execution_count": 11,
   "metadata": {
    "collapsed": true
   },
   "outputs": [],
   "source": [
    "#adding time lag columns\n",
    "train['lag_account_created'] = timedif(train.date_first_booking, train.date_account_created)\n",
    "train['lag_first_active'] = timedif(train.date_first_booking, train.timestamp_first_active)\n",
    "train['lag_account_created_first_active'] = timedif(train.date_account_created, train.timestamp_first_active)\n",
    "test['lag_account_created_first_active'] = timedif(test.date_account_created, test.timestamp_first_active)"
   ]
  },
  {
   "cell_type": "code",
   "execution_count": 12,
   "metadata": {
    "collapsed": true
   },
   "outputs": [],
   "source": [
    "def bookings(L1, L2, L3, L4):\n",
    "    timediflist = []\n",
    "    for i in range(len(L1)):\n",
    "        if L1[i] == 'same day' or L2[i] == 'same day':\n",
    "            timediflist.append('early')\n",
    "        elif L1[i] == 'before' and L2[i] == 'before' and L3[i] == 'same day':\n",
    "            timediflist.append('early')\n",
    "        elif L1[i] == 'greater 1 day' and L2[i] == 'greater 1 day':\n",
    "            timediflist.append('waited')\n",
    "        elif L1[i] == 'greater 1 day' and L2[i] == 'before':\n",
    "            timediflist.append('waited')\n",
    "        elif L1[i] == 'before' and L2[i] == 'greater 1 day':\n",
    "            timediflist.append('waited')\n",
    "        elif L1[i] == 'before' and L2[i] == 'before' and L3[i] == 'greater 1 day':\n",
    "            timediflist.append('waited')\n",
    "        elif L4[i] == 'NDF':\n",
    "            timediflist.append('NB')\n",
    "        else:\n",
    "            timediflist.append('NA')\n",
    "\n",
    "            \n",
    "    return timediflist"
   ]
  },
  {
   "cell_type": "code",
   "execution_count": 13,
   "metadata": {
    "collapsed": true
   },
   "outputs": [],
   "source": [
    "booking = bookings(train.lag_account_created, train.lag_first_active, train.lag_account_created_first_active, train.country_destination)"
   ]
  },
  {
   "cell_type": "code",
   "execution_count": 14,
   "metadata": {
    "collapsed": true
   },
   "outputs": [],
   "source": [
    "train['bookings'] = booking"
   ]
  },
  {
   "cell_type": "code",
   "execution_count": 15,
   "metadata": {
    "collapsed": false
   },
   "outputs": [
    {
     "data": {
      "text/plain": [
       "['NB',\n",
       " 'NB',\n",
       " 11264.0,\n",
       " 2458.8000000000002,\n",
       " 'NA',\n",
       " 'NA',\n",
       " 10659.0,\n",
       " 10659.0,\n",
       " 11413.0,\n",
       " 'NA']"
      ]
     },
     "execution_count": 15,
     "metadata": {},
     "output_type": "execute_result"
    }
   ],
   "source": [
    "#given the train data gender, age, and country_desination produce the corresponding population in thousands\n",
    "population_in_thous = []\n",
    "for i in range(train.shape[0]):\n",
    "    if train.country_destination[i] == 'NDF':\n",
    "        population_in_thous.append('NB')    \n",
    "    elif train.gender[i] == 'NA' or train.age[i] == 'NA' or train.gender[i] == 'nan': \n",
    "        population_in_thous.append('NA')\n",
    "    elif train.gender[i] == 'OTHER':\n",
    "        population_in_thous.append(0)  \n",
    "    elif train.country_destination[i] == 'other':\n",
    "        gendersi = user_demo.loc[user_demo.gender == train.gender[i].lower(),:] \n",
    "        ages = gendersi.loc[gendersi.age_bucket == train.age[i], :]\n",
    "        ages = list(map(lambda x: float(x), ages.population_in_thousands))\n",
    "        population_in_thous.append(np.mean(ages))\n",
    "    else:\n",
    "        genders = user_demo.loc[user_demo.gender == train.gender[i].lower(),:] \n",
    "        dests = genders.loc[genders.country_destination == train.country_destination[i] ,:]    \n",
    "        population_in_thous.append(float((dests.loc[dests.age_bucket == train.age[i], 'population_in_thousands'])))\n",
    "        \n",
    "population_in_thous[0:10]"
   ]
  },
  {
   "cell_type": "code",
   "execution_count": 16,
   "metadata": {
    "collapsed": true
   },
   "outputs": [],
   "source": [
    "#merging gender age bucket with train data\n",
    "train['population_in_thousands'] = population_in_thous"
   ]
  },
  {
   "cell_type": "code",
   "execution_count": 17,
   "metadata": {
    "collapsed": false
   },
   "outputs": [
    {
     "name": "stdout",
     "output_type": "stream",
     "text": [
      "           id date_account_created timestamp_first_active date_first_booking  \\\n",
      "0  gxn3p5htnn           2010-06-28    2009-03-19 04:32:55                NaT   \n",
      "1  820tgsjxq7           2011-05-25    2009-05-23 17:48:09                NaT   \n",
      "2  4ft3gnwmtx           2010-09-28    2009-06-09 23:12:47         2010-08-02   \n",
      "3  bjjt8pjhuk           2011-12-05    2009-10-31 06:01:29         2012-09-08   \n",
      "4  87mebub9p4           2010-09-14    2009-12-08 06:11:05         2010-02-18   \n",
      "\n",
      "   gender    age signup_method  signup_flow language affiliate_channel  \n",
      "0      NA     NA      facebook            0       en            direct  \n",
      "1    MALE  35-39      facebook            0       en               seo  \n",
      "2  FEMALE  55-59         basic            3       en            direct  \n",
      "3  FEMALE  40-44      facebook            0       en            direct  \n",
      "4      NA  40-44         basic            0       en            direct  \n",
      "  affiliate_provider first_affiliate_tracked signup_app first_device_type  \\\n",
      "0             direct               untracked        Web       Mac Desktop   \n",
      "1             google               untracked        Web       Mac Desktop   \n",
      "2             direct               untracked        Web   Windows Desktop   \n",
      "3             direct               untracked        Web       Mac Desktop   \n",
      "4             direct               untracked        Web       Mac Desktop   \n",
      "\n",
      "  first_browser country_destination lag_account_created lag_first_active  \\\n",
      "0        Chrome                 NDF                  NB               NB   \n",
      "1        Chrome                 NDF                  NB               NB   \n",
      "2            IE                  US              before    greater 1 day   \n",
      "3       Firefox               other       greater 1 day    greater 1 day   \n",
      "4        Chrome                  US              before    greater 1 day   \n",
      "\n",
      "  lag_account_created_first_active bookings population_in_thousands  \\\n",
      "0                    greater 1 day       NB                      NB   \n",
      "1                    greater 1 day       NB                      NB   \n",
      "2                    greater 1 day   waited                   11264   \n",
      "3                    greater 1 day   waited                  2458.8   \n",
      "4                    greater 1 day   waited                      NA   \n",
      "\n",
      "   sum_secs_elapsed  counts  \n",
      "0               NaN     NaN  \n",
      "1               NaN     NaN  \n",
      "2               NaN     NaN  \n",
      "3               NaN     NaN  \n",
      "4               NaN     NaN  \n"
     ]
    }
   ],
   "source": [
    "#merging with grouped sessions and countries, **note most of training data is not in sessions. see below \n",
    "test_m = pd.merge(test, group_sessions, left_on='id', right_on ='user_id', how='left')\n",
    "train_m = pd.merge(train, group_sessions, left_on='id', right_on ='user_id', how='left')\n",
    "test_m = test_m.drop('user_id', 1)\n",
    "train_m = train_m.drop('user_id', 1)\n",
    "print train_m.iloc[0:5, 0:10] #to be deleted?\n",
    "print train_m.iloc[0:5, 10:]  # to be deleted?"
   ]
  },
  {
   "cell_type": "code",
   "execution_count": 18,
   "metadata": {
    "collapsed": false
   },
   "outputs": [
    {
     "data": {
      "text/html": [
       "<div>\n",
       "<table border=\"1\" class=\"dataframe\">\n",
       "  <thead>\n",
       "    <tr style=\"text-align: right;\">\n",
       "      <th></th>\n",
       "      <th>id</th>\n",
       "      <th>date_account_created</th>\n",
       "      <th>timestamp_first_active</th>\n",
       "      <th>date_first_booking</th>\n",
       "      <th>gender</th>\n",
       "      <th>age</th>\n",
       "      <th>signup_method</th>\n",
       "      <th>signup_flow</th>\n",
       "      <th>language</th>\n",
       "      <th>affiliate_channel</th>\n",
       "      <th>...</th>\n",
       "      <th>first_device_type</th>\n",
       "      <th>first_browser</th>\n",
       "      <th>country_destination</th>\n",
       "      <th>lag_account_created</th>\n",
       "      <th>lag_first_active</th>\n",
       "      <th>lag_account_created_first_active</th>\n",
       "      <th>bookings</th>\n",
       "      <th>population_in_thousands</th>\n",
       "      <th>sum_secs_elapsed</th>\n",
       "      <th>counts</th>\n",
       "    </tr>\n",
       "  </thead>\n",
       "  <tbody>\n",
       "    <tr>\n",
       "      <th>0</th>\n",
       "      <td>gxn3p5htnn</td>\n",
       "      <td>2010-06-28</td>\n",
       "      <td>2009-03-19 04:32:55</td>\n",
       "      <td>NaT</td>\n",
       "      <td>NA</td>\n",
       "      <td>NA</td>\n",
       "      <td>facebook</td>\n",
       "      <td>0</td>\n",
       "      <td>en</td>\n",
       "      <td>direct</td>\n",
       "      <td>...</td>\n",
       "      <td>Mac Desktop</td>\n",
       "      <td>Chrome</td>\n",
       "      <td>NDF</td>\n",
       "      <td>NB</td>\n",
       "      <td>NB</td>\n",
       "      <td>greater 1 day</td>\n",
       "      <td>NB</td>\n",
       "      <td>NB</td>\n",
       "      <td>NaN</td>\n",
       "      <td>NaN</td>\n",
       "    </tr>\n",
       "    <tr>\n",
       "      <th>1</th>\n",
       "      <td>820tgsjxq7</td>\n",
       "      <td>2011-05-25</td>\n",
       "      <td>2009-05-23 17:48:09</td>\n",
       "      <td>NaT</td>\n",
       "      <td>MALE</td>\n",
       "      <td>35-39</td>\n",
       "      <td>facebook</td>\n",
       "      <td>0</td>\n",
       "      <td>en</td>\n",
       "      <td>seo</td>\n",
       "      <td>...</td>\n",
       "      <td>Mac Desktop</td>\n",
       "      <td>Chrome</td>\n",
       "      <td>NDF</td>\n",
       "      <td>NB</td>\n",
       "      <td>NB</td>\n",
       "      <td>greater 1 day</td>\n",
       "      <td>NB</td>\n",
       "      <td>NB</td>\n",
       "      <td>NaN</td>\n",
       "      <td>NaN</td>\n",
       "    </tr>\n",
       "    <tr>\n",
       "      <th>2</th>\n",
       "      <td>4ft3gnwmtx</td>\n",
       "      <td>2010-09-28</td>\n",
       "      <td>2009-06-09 23:12:47</td>\n",
       "      <td>2010-08-02</td>\n",
       "      <td>FEMALE</td>\n",
       "      <td>55-59</td>\n",
       "      <td>basic</td>\n",
       "      <td>3</td>\n",
       "      <td>en</td>\n",
       "      <td>direct</td>\n",
       "      <td>...</td>\n",
       "      <td>Windows Desktop</td>\n",
       "      <td>IE</td>\n",
       "      <td>US</td>\n",
       "      <td>before</td>\n",
       "      <td>greater 1 day</td>\n",
       "      <td>greater 1 day</td>\n",
       "      <td>waited</td>\n",
       "      <td>11264</td>\n",
       "      <td>NaN</td>\n",
       "      <td>NaN</td>\n",
       "    </tr>\n",
       "    <tr>\n",
       "      <th>3</th>\n",
       "      <td>bjjt8pjhuk</td>\n",
       "      <td>2011-12-05</td>\n",
       "      <td>2009-10-31 06:01:29</td>\n",
       "      <td>2012-09-08</td>\n",
       "      <td>FEMALE</td>\n",
       "      <td>40-44</td>\n",
       "      <td>facebook</td>\n",
       "      <td>0</td>\n",
       "      <td>en</td>\n",
       "      <td>direct</td>\n",
       "      <td>...</td>\n",
       "      <td>Mac Desktop</td>\n",
       "      <td>Firefox</td>\n",
       "      <td>other</td>\n",
       "      <td>greater 1 day</td>\n",
       "      <td>greater 1 day</td>\n",
       "      <td>greater 1 day</td>\n",
       "      <td>waited</td>\n",
       "      <td>2458.8</td>\n",
       "      <td>NaN</td>\n",
       "      <td>NaN</td>\n",
       "    </tr>\n",
       "    <tr>\n",
       "      <th>4</th>\n",
       "      <td>87mebub9p4</td>\n",
       "      <td>2010-09-14</td>\n",
       "      <td>2009-12-08 06:11:05</td>\n",
       "      <td>2010-02-18</td>\n",
       "      <td>NA</td>\n",
       "      <td>40-44</td>\n",
       "      <td>basic</td>\n",
       "      <td>0</td>\n",
       "      <td>en</td>\n",
       "      <td>direct</td>\n",
       "      <td>...</td>\n",
       "      <td>Mac Desktop</td>\n",
       "      <td>Chrome</td>\n",
       "      <td>US</td>\n",
       "      <td>before</td>\n",
       "      <td>greater 1 day</td>\n",
       "      <td>greater 1 day</td>\n",
       "      <td>waited</td>\n",
       "      <td>NA</td>\n",
       "      <td>NaN</td>\n",
       "      <td>NaN</td>\n",
       "    </tr>\n",
       "  </tbody>\n",
       "</table>\n",
       "<p>5 rows × 23 columns</p>\n",
       "</div>"
      ],
      "text/plain": [
       "           id date_account_created timestamp_first_active date_first_booking  \\\n",
       "0  gxn3p5htnn           2010-06-28    2009-03-19 04:32:55                NaT   \n",
       "1  820tgsjxq7           2011-05-25    2009-05-23 17:48:09                NaT   \n",
       "2  4ft3gnwmtx           2010-09-28    2009-06-09 23:12:47         2010-08-02   \n",
       "3  bjjt8pjhuk           2011-12-05    2009-10-31 06:01:29         2012-09-08   \n",
       "4  87mebub9p4           2010-09-14    2009-12-08 06:11:05         2010-02-18   \n",
       "\n",
       "   gender    age signup_method  signup_flow language affiliate_channel  ...    \\\n",
       "0      NA     NA      facebook            0       en            direct  ...     \n",
       "1    MALE  35-39      facebook            0       en               seo  ...     \n",
       "2  FEMALE  55-59         basic            3       en            direct  ...     \n",
       "3  FEMALE  40-44      facebook            0       en            direct  ...     \n",
       "4      NA  40-44         basic            0       en            direct  ...     \n",
       "\n",
       "  first_device_type first_browser country_destination lag_account_created  \\\n",
       "0       Mac Desktop        Chrome                 NDF                  NB   \n",
       "1       Mac Desktop        Chrome                 NDF                  NB   \n",
       "2   Windows Desktop            IE                  US              before   \n",
       "3       Mac Desktop       Firefox               other       greater 1 day   \n",
       "4       Mac Desktop        Chrome                  US              before   \n",
       "\n",
       "  lag_first_active lag_account_created_first_active bookings  \\\n",
       "0               NB                    greater 1 day       NB   \n",
       "1               NB                    greater 1 day       NB   \n",
       "2    greater 1 day                    greater 1 day   waited   \n",
       "3    greater 1 day                    greater 1 day   waited   \n",
       "4    greater 1 day                    greater 1 day   waited   \n",
       "\n",
       "  population_in_thousands sum_secs_elapsed counts  \n",
       "0                      NB              NaN    NaN  \n",
       "1                      NB              NaN    NaN  \n",
       "2                   11264              NaN    NaN  \n",
       "3                  2458.8              NaN    NaN  \n",
       "4                      NA              NaN    NaN  \n",
       "\n",
       "[5 rows x 23 columns]"
      ]
     },
     "execution_count": 18,
     "metadata": {},
     "output_type": "execute_result"
    }
   ],
   "source": [
    "train_m.head()"
   ]
  },
  {
   "cell_type": "code",
   "execution_count": 19,
   "metadata": {
    "collapsed": false
   },
   "outputs": [
    {
     "data": {
      "text/plain": [
       "Index([u'id', u'date_account_created', u'timestamp_first_active',\n",
       "       u'date_first_booking', u'gender', u'age', u'signup_method',\n",
       "       u'signup_flow', u'language', u'affiliate_channel',\n",
       "       u'affiliate_provider', u'first_affiliate_tracked', u'signup_app',\n",
       "       u'first_device_type', u'first_browser', u'country_destination',\n",
       "       u'lag_account_created', u'lag_first_active',\n",
       "       u'lag_account_created_first_active', u'bookings',\n",
       "       u'population_in_thousands', u'sum_secs_elapsed', u'counts'],\n",
       "      dtype='object')"
      ]
     },
     "execution_count": 19,
     "metadata": {},
     "output_type": "execute_result"
    }
   ],
   "source": [
    "train_m.columns"
   ]
  },
  {
   "cell_type": "code",
   "execution_count": 20,
   "metadata": {
    "collapsed": false
   },
   "outputs": [
    {
     "data": {
      "text/html": [
       "<div>\n",
       "<table border=\"1\" class=\"dataframe\">\n",
       "  <thead>\n",
       "    <tr style=\"text-align: right;\">\n",
       "      <th></th>\n",
       "      <th>id</th>\n",
       "      <th>date_account_created</th>\n",
       "      <th>timestamp_first_active</th>\n",
       "      <th>date_first_booking</th>\n",
       "      <th>gender</th>\n",
       "      <th>age</th>\n",
       "      <th>signup_method</th>\n",
       "      <th>signup_flow</th>\n",
       "      <th>language</th>\n",
       "      <th>affiliate_channel</th>\n",
       "      <th>...</th>\n",
       "      <th>first_device_type</th>\n",
       "      <th>first_browser</th>\n",
       "      <th>country_destination</th>\n",
       "      <th>lag_account_created</th>\n",
       "      <th>lag_first_active</th>\n",
       "      <th>lag_account_created_first_active</th>\n",
       "      <th>bookings</th>\n",
       "      <th>population_in_thousands</th>\n",
       "      <th>sum_secs_elapsed</th>\n",
       "      <th>counts</th>\n",
       "    </tr>\n",
       "  </thead>\n",
       "  <tbody>\n",
       "    <tr>\n",
       "      <th>0</th>\n",
       "      <td>gxn3p5htnn</td>\n",
       "      <td>2010-06-28</td>\n",
       "      <td>2009-03-19 04:32:55</td>\n",
       "      <td>NaT</td>\n",
       "      <td>NA</td>\n",
       "      <td>NA</td>\n",
       "      <td>facebook</td>\n",
       "      <td>0</td>\n",
       "      <td>en</td>\n",
       "      <td>direct</td>\n",
       "      <td>...</td>\n",
       "      <td>Mac Desktop</td>\n",
       "      <td>Chrome</td>\n",
       "      <td>NDF</td>\n",
       "      <td>NB</td>\n",
       "      <td>NB</td>\n",
       "      <td>greater 1 day</td>\n",
       "      <td>NB</td>\n",
       "      <td>NB</td>\n",
       "      <td>NaN</td>\n",
       "      <td>NaN</td>\n",
       "    </tr>\n",
       "    <tr>\n",
       "      <th>1</th>\n",
       "      <td>820tgsjxq7</td>\n",
       "      <td>2011-05-25</td>\n",
       "      <td>2009-05-23 17:48:09</td>\n",
       "      <td>NaT</td>\n",
       "      <td>MALE</td>\n",
       "      <td>35-39</td>\n",
       "      <td>facebook</td>\n",
       "      <td>0</td>\n",
       "      <td>en</td>\n",
       "      <td>seo</td>\n",
       "      <td>...</td>\n",
       "      <td>Mac Desktop</td>\n",
       "      <td>Chrome</td>\n",
       "      <td>NDF</td>\n",
       "      <td>NB</td>\n",
       "      <td>NB</td>\n",
       "      <td>greater 1 day</td>\n",
       "      <td>NB</td>\n",
       "      <td>NB</td>\n",
       "      <td>NaN</td>\n",
       "      <td>NaN</td>\n",
       "    </tr>\n",
       "    <tr>\n",
       "      <th>2</th>\n",
       "      <td>4ft3gnwmtx</td>\n",
       "      <td>2010-09-28</td>\n",
       "      <td>2009-06-09 23:12:47</td>\n",
       "      <td>2010-08-02</td>\n",
       "      <td>FEMALE</td>\n",
       "      <td>55-59</td>\n",
       "      <td>basic</td>\n",
       "      <td>3</td>\n",
       "      <td>en</td>\n",
       "      <td>direct</td>\n",
       "      <td>...</td>\n",
       "      <td>Windows Desktop</td>\n",
       "      <td>IE</td>\n",
       "      <td>US</td>\n",
       "      <td>before</td>\n",
       "      <td>greater 1 day</td>\n",
       "      <td>greater 1 day</td>\n",
       "      <td>waited</td>\n",
       "      <td>11264</td>\n",
       "      <td>NaN</td>\n",
       "      <td>NaN</td>\n",
       "    </tr>\n",
       "    <tr>\n",
       "      <th>3</th>\n",
       "      <td>bjjt8pjhuk</td>\n",
       "      <td>2011-12-05</td>\n",
       "      <td>2009-10-31 06:01:29</td>\n",
       "      <td>2012-09-08</td>\n",
       "      <td>FEMALE</td>\n",
       "      <td>40-44</td>\n",
       "      <td>facebook</td>\n",
       "      <td>0</td>\n",
       "      <td>en</td>\n",
       "      <td>direct</td>\n",
       "      <td>...</td>\n",
       "      <td>Mac Desktop</td>\n",
       "      <td>Firefox</td>\n",
       "      <td>other</td>\n",
       "      <td>greater 1 day</td>\n",
       "      <td>greater 1 day</td>\n",
       "      <td>greater 1 day</td>\n",
       "      <td>waited</td>\n",
       "      <td>2458.8</td>\n",
       "      <td>NaN</td>\n",
       "      <td>NaN</td>\n",
       "    </tr>\n",
       "    <tr>\n",
       "      <th>4</th>\n",
       "      <td>87mebub9p4</td>\n",
       "      <td>2010-09-14</td>\n",
       "      <td>2009-12-08 06:11:05</td>\n",
       "      <td>2010-02-18</td>\n",
       "      <td>NA</td>\n",
       "      <td>40-44</td>\n",
       "      <td>basic</td>\n",
       "      <td>0</td>\n",
       "      <td>en</td>\n",
       "      <td>direct</td>\n",
       "      <td>...</td>\n",
       "      <td>Mac Desktop</td>\n",
       "      <td>Chrome</td>\n",
       "      <td>US</td>\n",
       "      <td>before</td>\n",
       "      <td>greater 1 day</td>\n",
       "      <td>greater 1 day</td>\n",
       "      <td>waited</td>\n",
       "      <td>NA</td>\n",
       "      <td>NaN</td>\n",
       "      <td>NaN</td>\n",
       "    </tr>\n",
       "  </tbody>\n",
       "</table>\n",
       "<p>5 rows × 23 columns</p>\n",
       "</div>"
      ],
      "text/plain": [
       "           id date_account_created timestamp_first_active date_first_booking  \\\n",
       "0  gxn3p5htnn           2010-06-28    2009-03-19 04:32:55                NaT   \n",
       "1  820tgsjxq7           2011-05-25    2009-05-23 17:48:09                NaT   \n",
       "2  4ft3gnwmtx           2010-09-28    2009-06-09 23:12:47         2010-08-02   \n",
       "3  bjjt8pjhuk           2011-12-05    2009-10-31 06:01:29         2012-09-08   \n",
       "4  87mebub9p4           2010-09-14    2009-12-08 06:11:05         2010-02-18   \n",
       "\n",
       "   gender    age signup_method  signup_flow language affiliate_channel  ...    \\\n",
       "0      NA     NA      facebook            0       en            direct  ...     \n",
       "1    MALE  35-39      facebook            0       en               seo  ...     \n",
       "2  FEMALE  55-59         basic            3       en            direct  ...     \n",
       "3  FEMALE  40-44      facebook            0       en            direct  ...     \n",
       "4      NA  40-44         basic            0       en            direct  ...     \n",
       "\n",
       "  first_device_type first_browser country_destination lag_account_created  \\\n",
       "0       Mac Desktop        Chrome                 NDF                  NB   \n",
       "1       Mac Desktop        Chrome                 NDF                  NB   \n",
       "2   Windows Desktop            IE                  US              before   \n",
       "3       Mac Desktop       Firefox               other       greater 1 day   \n",
       "4       Mac Desktop        Chrome                  US              before   \n",
       "\n",
       "  lag_first_active lag_account_created_first_active bookings  \\\n",
       "0               NB                    greater 1 day       NB   \n",
       "1               NB                    greater 1 day       NB   \n",
       "2    greater 1 day                    greater 1 day   waited   \n",
       "3    greater 1 day                    greater 1 day   waited   \n",
       "4    greater 1 day                    greater 1 day   waited   \n",
       "\n",
       "  population_in_thousands sum_secs_elapsed counts  \n",
       "0                      NB              NaN    NaN  \n",
       "1                      NB              NaN    NaN  \n",
       "2                   11264              NaN    NaN  \n",
       "3                  2458.8              NaN    NaN  \n",
       "4                      NA              NaN    NaN  \n",
       "\n",
       "[5 rows x 23 columns]"
      ]
     },
     "execution_count": 20,
     "metadata": {},
     "output_type": "execute_result"
    }
   ],
   "source": [
    "train_m.head()"
   ]
  },
  {
   "cell_type": "code",
   "execution_count": 506,
   "metadata": {
    "collapsed": false
   },
   "outputs": [
    {
     "data": {
      "text/plain": [
       "[None, None, None, None, None, None, None, None, None]"
      ]
     },
     "execution_count": 506,
     "metadata": {},
     "output_type": "execute_result"
    }
   ],
   "source": [
    "#remove id, time format columns and categorical columns\n",
    "excl = list(train_m.columns)\n",
    "toremove = ['id', 'date_account_created', 'timestamp_first_active', 'date_first_booking', 'population_in_thousands',\n",
    "            'lag_account_created', 'bookings', 'lag_first_active', \n",
    "            #'lag_account_created_first_active', \n",
    "              'country_destination'] \n",
    "map(lambda x: excl.remove(x), toremove)\n"
   ]
  },
  {
   "cell_type": "code",
   "execution_count": 507,
   "metadata": {
    "collapsed": false,
    "scrolled": true
   },
   "outputs": [
    {
     "data": {
      "text/html": [
       "<div>\n",
       "<table border=\"1\" class=\"dataframe\">\n",
       "  <thead>\n",
       "    <tr style=\"text-align: right;\">\n",
       "      <th></th>\n",
       "      <th>gender</th>\n",
       "      <th>age</th>\n",
       "      <th>signup_method</th>\n",
       "      <th>signup_flow</th>\n",
       "      <th>language</th>\n",
       "      <th>affiliate_channel</th>\n",
       "      <th>affiliate_provider</th>\n",
       "      <th>first_affiliate_tracked</th>\n",
       "      <th>signup_app</th>\n",
       "      <th>first_device_type</th>\n",
       "      <th>first_browser</th>\n",
       "      <th>lag_account_created_first_active</th>\n",
       "      <th>sum_secs_elapsed</th>\n",
       "      <th>counts</th>\n",
       "    </tr>\n",
       "  </thead>\n",
       "  <tbody>\n",
       "    <tr>\n",
       "      <th>0</th>\n",
       "      <td>NA</td>\n",
       "      <td>NA</td>\n",
       "      <td>facebook</td>\n",
       "      <td>0</td>\n",
       "      <td>en</td>\n",
       "      <td>direct</td>\n",
       "      <td>direct</td>\n",
       "      <td>untracked</td>\n",
       "      <td>Web</td>\n",
       "      <td>Mac Desktop</td>\n",
       "      <td>Chrome</td>\n",
       "      <td>greater 1 day</td>\n",
       "      <td>NaN</td>\n",
       "      <td>NaN</td>\n",
       "    </tr>\n",
       "    <tr>\n",
       "      <th>1</th>\n",
       "      <td>MALE</td>\n",
       "      <td>35-39</td>\n",
       "      <td>facebook</td>\n",
       "      <td>0</td>\n",
       "      <td>en</td>\n",
       "      <td>seo</td>\n",
       "      <td>google</td>\n",
       "      <td>untracked</td>\n",
       "      <td>Web</td>\n",
       "      <td>Mac Desktop</td>\n",
       "      <td>Chrome</td>\n",
       "      <td>greater 1 day</td>\n",
       "      <td>NaN</td>\n",
       "      <td>NaN</td>\n",
       "    </tr>\n",
       "    <tr>\n",
       "      <th>2</th>\n",
       "      <td>FEMALE</td>\n",
       "      <td>55-59</td>\n",
       "      <td>basic</td>\n",
       "      <td>3</td>\n",
       "      <td>en</td>\n",
       "      <td>direct</td>\n",
       "      <td>direct</td>\n",
       "      <td>untracked</td>\n",
       "      <td>Web</td>\n",
       "      <td>Windows Desktop</td>\n",
       "      <td>IE</td>\n",
       "      <td>greater 1 day</td>\n",
       "      <td>NaN</td>\n",
       "      <td>NaN</td>\n",
       "    </tr>\n",
       "    <tr>\n",
       "      <th>3</th>\n",
       "      <td>FEMALE</td>\n",
       "      <td>40-44</td>\n",
       "      <td>facebook</td>\n",
       "      <td>0</td>\n",
       "      <td>en</td>\n",
       "      <td>direct</td>\n",
       "      <td>direct</td>\n",
       "      <td>untracked</td>\n",
       "      <td>Web</td>\n",
       "      <td>Mac Desktop</td>\n",
       "      <td>Firefox</td>\n",
       "      <td>greater 1 day</td>\n",
       "      <td>NaN</td>\n",
       "      <td>NaN</td>\n",
       "    </tr>\n",
       "    <tr>\n",
       "      <th>4</th>\n",
       "      <td>NA</td>\n",
       "      <td>40-44</td>\n",
       "      <td>basic</td>\n",
       "      <td>0</td>\n",
       "      <td>en</td>\n",
       "      <td>direct</td>\n",
       "      <td>direct</td>\n",
       "      <td>untracked</td>\n",
       "      <td>Web</td>\n",
       "      <td>Mac Desktop</td>\n",
       "      <td>Chrome</td>\n",
       "      <td>greater 1 day</td>\n",
       "      <td>NaN</td>\n",
       "      <td>NaN</td>\n",
       "    </tr>\n",
       "    <tr>\n",
       "      <th>5</th>\n",
       "      <td>NA</td>\n",
       "      <td>NA</td>\n",
       "      <td>basic</td>\n",
       "      <td>0</td>\n",
       "      <td>en</td>\n",
       "      <td>other</td>\n",
       "      <td>other</td>\n",
       "      <td>omg</td>\n",
       "      <td>Web</td>\n",
       "      <td>Mac Desktop</td>\n",
       "      <td>Chrome</td>\n",
       "      <td>before</td>\n",
       "      <td>NaN</td>\n",
       "      <td>NaN</td>\n",
       "    </tr>\n",
       "    <tr>\n",
       "      <th>6</th>\n",
       "      <td>FEMALE</td>\n",
       "      <td>45-49</td>\n",
       "      <td>basic</td>\n",
       "      <td>0</td>\n",
       "      <td>en</td>\n",
       "      <td>other</td>\n",
       "      <td>craigslist</td>\n",
       "      <td>untracked</td>\n",
       "      <td>Web</td>\n",
       "      <td>Mac Desktop</td>\n",
       "      <td>Safari</td>\n",
       "      <td>before</td>\n",
       "      <td>NaN</td>\n",
       "      <td>NaN</td>\n",
       "    </tr>\n",
       "    <tr>\n",
       "      <th>7</th>\n",
       "      <td>FEMALE</td>\n",
       "      <td>45-49</td>\n",
       "      <td>basic</td>\n",
       "      <td>0</td>\n",
       "      <td>en</td>\n",
       "      <td>direct</td>\n",
       "      <td>direct</td>\n",
       "      <td>omg</td>\n",
       "      <td>Web</td>\n",
       "      <td>Mac Desktop</td>\n",
       "      <td>Safari</td>\n",
       "      <td>before</td>\n",
       "      <td>NaN</td>\n",
       "      <td>NaN</td>\n",
       "    </tr>\n",
       "    <tr>\n",
       "      <th>8</th>\n",
       "      <td>FEMALE</td>\n",
       "      <td>50-54</td>\n",
       "      <td>basic</td>\n",
       "      <td>0</td>\n",
       "      <td>en</td>\n",
       "      <td>other</td>\n",
       "      <td>craigslist</td>\n",
       "      <td>untracked</td>\n",
       "      <td>Web</td>\n",
       "      <td>Mac Desktop</td>\n",
       "      <td>Safari</td>\n",
       "      <td>before</td>\n",
       "      <td>NaN</td>\n",
       "      <td>NaN</td>\n",
       "    </tr>\n",
       "    <tr>\n",
       "      <th>9</th>\n",
       "      <td>NA</td>\n",
       "      <td>45-49</td>\n",
       "      <td>basic</td>\n",
       "      <td>0</td>\n",
       "      <td>en</td>\n",
       "      <td>other</td>\n",
       "      <td>craigslist</td>\n",
       "      <td>omg</td>\n",
       "      <td>Web</td>\n",
       "      <td>Mac Desktop</td>\n",
       "      <td>Firefox</td>\n",
       "      <td>before</td>\n",
       "      <td>NaN</td>\n",
       "      <td>NaN</td>\n",
       "    </tr>\n",
       "    <tr>\n",
       "      <th>10</th>\n",
       "      <td>FEMALE</td>\n",
       "      <td>35-39</td>\n",
       "      <td>basic</td>\n",
       "      <td>0</td>\n",
       "      <td>en</td>\n",
       "      <td>other</td>\n",
       "      <td>craigslist</td>\n",
       "      <td>untracked</td>\n",
       "      <td>Web</td>\n",
       "      <td>Mac Desktop</td>\n",
       "      <td>Firefox</td>\n",
       "      <td>before</td>\n",
       "      <td>NaN</td>\n",
       "      <td>NaN</td>\n",
       "    </tr>\n",
       "  </tbody>\n",
       "</table>\n",
       "</div>"
      ],
      "text/plain": [
       "    gender    age signup_method  signup_flow language affiliate_channel  \\\n",
       "0       NA     NA      facebook            0       en            direct   \n",
       "1     MALE  35-39      facebook            0       en               seo   \n",
       "2   FEMALE  55-59         basic            3       en            direct   \n",
       "3   FEMALE  40-44      facebook            0       en            direct   \n",
       "4       NA  40-44         basic            0       en            direct   \n",
       "5       NA     NA         basic            0       en             other   \n",
       "6   FEMALE  45-49         basic            0       en             other   \n",
       "7   FEMALE  45-49         basic            0       en            direct   \n",
       "8   FEMALE  50-54         basic            0       en             other   \n",
       "9       NA  45-49         basic            0       en             other   \n",
       "10  FEMALE  35-39         basic            0       en             other   \n",
       "\n",
       "   affiliate_provider first_affiliate_tracked signup_app first_device_type  \\\n",
       "0              direct               untracked        Web       Mac Desktop   \n",
       "1              google               untracked        Web       Mac Desktop   \n",
       "2              direct               untracked        Web   Windows Desktop   \n",
       "3              direct               untracked        Web       Mac Desktop   \n",
       "4              direct               untracked        Web       Mac Desktop   \n",
       "5               other                     omg        Web       Mac Desktop   \n",
       "6          craigslist               untracked        Web       Mac Desktop   \n",
       "7              direct                     omg        Web       Mac Desktop   \n",
       "8          craigslist               untracked        Web       Mac Desktop   \n",
       "9          craigslist                     omg        Web       Mac Desktop   \n",
       "10         craigslist               untracked        Web       Mac Desktop   \n",
       "\n",
       "   first_browser lag_account_created_first_active  sum_secs_elapsed  counts  \n",
       "0         Chrome                    greater 1 day               NaN     NaN  \n",
       "1         Chrome                    greater 1 day               NaN     NaN  \n",
       "2             IE                    greater 1 day               NaN     NaN  \n",
       "3        Firefox                    greater 1 day               NaN     NaN  \n",
       "4         Chrome                    greater 1 day               NaN     NaN  \n",
       "5         Chrome                           before               NaN     NaN  \n",
       "6         Safari                           before               NaN     NaN  \n",
       "7         Safari                           before               NaN     NaN  \n",
       "8         Safari                           before               NaN     NaN  \n",
       "9        Firefox                           before               NaN     NaN  \n",
       "10       Firefox                           before               NaN     NaN  "
      ]
     },
     "execution_count": 507,
     "metadata": {},
     "output_type": "execute_result"
    }
   ],
   "source": [
    "train_m.loc[0:10, excl]"
   ]
  },
  {
   "cell_type": "code",
   "execution_count": 508,
   "metadata": {
    "collapsed": false
   },
   "outputs": [],
   "source": [
    "train_xcl = train_m.loc[:, excl]\n",
    "test_xcl = test_m.loc[:, excl]"
   ]
  },
  {
   "cell_type": "code",
   "execution_count": 509,
   "metadata": {
    "collapsed": false
   },
   "outputs": [
    {
     "name": "stdout",
     "output_type": "stream",
     "text": [
      "gender                                         NA\n",
      "age                                            NA\n",
      "signup_method                            facebook\n",
      "signup_flow                                     0\n",
      "language                                       en\n",
      "affiliate_channel                          direct\n",
      "affiliate_provider                         direct\n",
      "first_affiliate_tracked                 untracked\n",
      "signup_app                                    Web\n",
      "first_device_type                     Mac Desktop\n",
      "first_browser                              Chrome\n",
      "lag_account_created_first_active    greater 1 day\n",
      "sum_secs_elapsed                              NaN\n",
      "counts                                        NaN\n",
      "Name: 0, dtype: object\n"
     ]
    }
   ],
   "source": [
    "print train_xcl.iloc[0,:]"
   ]
  },
  {
   "cell_type": "code",
   "execution_count": 510,
   "metadata": {
    "collapsed": true
   },
   "outputs": [],
   "source": [
    "#train_xcl.to_csv(\"train_x_pre_dic623nopop.csv\")\n",
    "#test_xcl.to_csv(\"test_x_pre_dic623nopop.csv\")"
   ]
  },
  {
   "cell_type": "code",
   "execution_count": 511,
   "metadata": {
    "collapsed": false
   },
   "outputs": [],
   "source": [
    "from sklearn.feature_extraction import DictVectorizer\n",
    "\n",
    "frames = [train_xcl, test_xcl]\n",
    "all_data = pd.concat(frames)\n",
    "all_data = all_data.T.to_dict().values()\n",
    "train_xdic = train_xcl.T.to_dict().values()\n",
    "test_xdic = test_xcl.T.to_dict().values()\n",
    "\n",
    "vec = DictVectorizer()\n",
    "vec.fit(all_data)\n",
    "train_xvec = vec.transform(train_xdic)\n",
    "test_xvec = vec.transform(test_xdic)"
   ]
  },
  {
   "cell_type": "code",
   "execution_count": 512,
   "metadata": {
    "collapsed": false
   },
   "outputs": [],
   "source": [
    "train_y = train_m.loc[:,'country_destination']"
   ]
  },
  {
   "cell_type": "code",
   "execution_count": 513,
   "metadata": {
    "collapsed": false
   },
   "outputs": [],
   "source": [
    "#train_y = train_y.T.to_dict().values()\n",
    "#vec1 = DictVectorizer()\n",
    "#vec1.fit(train_y)\n",
    "#train_y = vec.transform(train_y)"
   ]
  },
  {
   "cell_type": "code",
   "execution_count": 514,
   "metadata": {
    "collapsed": false
   },
   "outputs": [
    {
     "name": "stdout",
     "output_type": "stream",
     "text": [
      "<type 'numpy.ndarray'>\n"
     ]
    }
   ],
   "source": [
    "from sklearn import preprocessing\n",
    "le = preprocessing.LabelEncoder()\n",
    "le.fit(train_y)\n",
    "train_ytrans = le.transform(train_y)\n",
    "print type(train_ytrans)"
   ]
  },
  {
   "cell_type": "code",
   "execution_count": 515,
   "metadata": {
    "collapsed": false,
    "scrolled": true
   },
   "outputs": [],
   "source": [
    "#from sklearn import preprocessing\n",
    "#oh = preprocessing.OneHotEncoder()\n",
    "#train_y = train_y.to_dict().values()\n",
    "#print train_y\n",
    "#enc.transform([[0, 1, 1]]).toarray()\n",
    "#oh.fit(train_y)\n",
    "#train_y = train_y.T.to_dict().values()\n",
    "#print train_y\n",
    "#train_y = oh.fit_transform(train_y)\n",
    "#train_y = oh.transform(train_y).toarray()\n",
    "#print type(train_y)"
   ]
  },
  {
   "cell_type": "code",
   "execution_count": 516,
   "metadata": {
    "collapsed": false
   },
   "outputs": [
    {
     "data": {
      "text/plain": [
       "{0, 1, 2, 3, 4, 5, 6, 7, 8, 9, 10, 11}"
      ]
     },
     "execution_count": 516,
     "metadata": {},
     "output_type": "execute_result"
    }
   ],
   "source": [
    "set(train_ytrans)"
   ]
  },
  {
   "cell_type": "code",
   "execution_count": 517,
   "metadata": {
    "collapsed": false
   },
   "outputs": [
    {
     "name": "stdout",
     "output_type": "stream",
     "text": [
      "Index([u'gender', u'age', u'signup_method', u'signup_flow', u'language',\n",
      "       u'affiliate_channel', u'affiliate_provider', u'first_affiliate_tracked',\n",
      "       u'signup_app', u'first_device_type', u'first_browser',\n",
      "       u'lag_account_created_first_active', u'sum_secs_elapsed', u'counts'],\n",
      "      dtype='object')\n"
     ]
    }
   ],
   "source": [
    "print train_xcl.columns"
   ]
  },
  {
   "cell_type": "code",
   "execution_count": 538,
   "metadata": {
    "collapsed": false
   },
   "outputs": [],
   "source": [
    "#model was fit using xgboost\n",
    "import xgboost as xgb\n",
    "import numpy as np\n",
    "params = {}\n",
    "params[\"objective\"] = \"multi:softmax\"\n",
    "params[\"num_class\"] = 12\n",
    "params[\"eta\"] = 0.3\n",
    "params[\"min_child_weight\"] = 6\n",
    "params[\"subsample\"] = 0.7\n",
    "params[\"colsample_bytree\"] = 0.7\n",
    "params[\"scale_pos_weight\"] = 1\n",
    "params[\"max_depth\"] = 3\n",
    "params['eval_metric'] = \"ndcg@5\"\n",
    "params['nthread'] = 4\n",
    "\n",
    "\n",
    "plst = list(params.items())\n",
    "\n",
    "dtrain = xgb.DMatrix(train_xvec, label=train_ytrans)\n",
    "dtest = xgb.DMatrix(test_xvec)\n",
    "num_round = 25\n",
    "model = xgb.train(plst, dtrain, num_round, verbose_eval=True)\n"
   ]
  },
  {
   "cell_type": "code",
   "execution_count": 571,
   "metadata": {
    "collapsed": false
   },
   "outputs": [],
   "source": [
    "#This model2 was fit using xgboost.XGBClassifier\n",
    "import numpy as np\n",
    "\n",
    "model2 = xgb.XGBClassifier(max_depth = 5, learning_rate = 0.1, n_estimators = 30, silent = False, \\\n",
    "                           objective =\"multi:softprob\")\n"
   ]
  },
  {
   "cell_type": "code",
   "execution_count": 572,
   "metadata": {
    "collapsed": false
   },
   "outputs": [
    {
     "data": {
      "text/plain": [
       "XGBClassifier(base_score=0.5, colsample_bylevel=1, colsample_bytree=1,\n",
       "       gamma=0, learning_rate=0.1, max_delta_step=0, max_depth=5,\n",
       "       min_child_weight=1, missing=None, n_estimators=30, nthread=-1,\n",
       "       objective='multi:softprob', reg_alpha=0, reg_lambda=1,\n",
       "       scale_pos_weight=1, seed=0, silent=False, subsample=1)"
      ]
     },
     "execution_count": 572,
     "metadata": {},
     "output_type": "execute_result"
    }
   ],
   "source": [
    "model2.fit(train_xvec, train_ytrans, verbose = True, eval_metric = \"ndcg@5\")"
   ]
  },
  {
   "cell_type": "code",
   "execution_count": 583,
   "metadata": {
    "collapsed": false
   },
   "outputs": [
    {
     "data": {
      "text/plain": [
       "array([ 7,  7, 10, ..., 10,  7,  7])"
      ]
     },
     "execution_count": 583,
     "metadata": {},
     "output_type": "execute_result"
    }
   ],
   "source": [
    "pred2 = model2.predict(train_xvec)\n",
    "pred2"
   ]
  },
  {
   "cell_type": "code",
   "execution_count": 642,
   "metadata": {
    "collapsed": false
   },
   "outputs": [
    {
     "name": "stdout",
     "output_type": "stream",
     "text": [
      "7\n"
     ]
    }
   ],
   "source": [
    "pred = map(int,model.predict(dtrain))\n",
    "print pred[0]"
   ]
  },
  {
   "cell_type": "code",
   "execution_count": 566,
   "metadata": {
    "collapsed": false
   },
   "outputs": [
    {
     "name": "stdout",
     "output_type": "stream",
     "text": [
      "(62096, 14)\n",
      "(213451, 14)\n"
     ]
    }
   ],
   "source": [
    "print test_x.shape\n",
    "print train_x.shape"
   ]
  },
  {
   "cell_type": "code",
   "execution_count": 567,
   "metadata": {
    "collapsed": true
   },
   "outputs": [],
   "source": [
    "pred2inv = le.inverse_transform(pred2)"
   ]
  },
  {
   "cell_type": "code",
   "execution_count": 541,
   "metadata": {
    "collapsed": false
   },
   "outputs": [],
   "source": [
    "predinv = le.inverse_transform(pred)"
   ]
  },
  {
   "cell_type": "code",
   "execution_count": 568,
   "metadata": {
    "collapsed": false
   },
   "outputs": [
    {
     "data": {
      "text/plain": [
       "0.63115188029102698"
      ]
     },
     "execution_count": 568,
     "metadata": {},
     "output_type": "execute_result"
    }
   ],
   "source": [
    "import sklearn.metrics as me\n",
    "me.accuracy_score(pred2inv, train_y)"
   ]
  },
  {
   "cell_type": "code",
   "execution_count": 543,
   "metadata": {
    "collapsed": false
   },
   "outputs": [
    {
     "data": {
      "text/plain": [
       "0.6331429695808406"
      ]
     },
     "execution_count": 543,
     "metadata": {},
     "output_type": "execute_result"
    }
   ],
   "source": [
    "import sklearn.metrics as me\n",
    "me.accuracy_score(predinv, train_y)"
   ]
  },
  {
   "cell_type": "code",
   "execution_count": 525,
   "metadata": {
    "collapsed": false
   },
   "outputs": [
    {
     "name": "stdout",
     "output_type": "stream",
     "text": [
      "set(['US', 'NDF'])\n"
     ]
    }
   ],
   "source": [
    "#testing the first model with the test data to be submitted to kaggle\n",
    "pred1 = model.predict(dtest)\n",
    "pred1 = map(int,pred1)\n",
    "pred1 = le.inverse_transform(pred1)\n",
    "print set(pred1)"
   ]
  },
  {
   "cell_type": "code",
   "execution_count": 529,
   "metadata": {
    "collapsed": false
   },
   "outputs": [
    {
     "name": "stdout",
     "output_type": "stream",
     "text": [
      "           id country\n",
      "0  5uwns89zht     NDF\n",
      "1  jtl0dijy2j     NDF\n",
      "2  xx0ulgorjt     NDF\n"
     ]
    }
   ],
   "source": [
    "#turning the test results into kaggle format\n",
    "testsub = pd.DataFrame({'id': test_m.id, 'country':pred1})\n",
    "testsub = testsub[['id', 'country']]\n",
    "print testsub.iloc[0:3,:]"
   ]
  },
  {
   "cell_type": "code",
   "execution_count": 530,
   "metadata": {
    "collapsed": true
   },
   "outputs": [],
   "source": [
    "#testsub.to_csv(\"testsub1yk.csv\", index=False)"
   ]
  },
  {
   "cell_type": "code",
   "execution_count": 469,
   "metadata": {
    "collapsed": false
   },
   "outputs": [
    {
     "name": "stdout",
     "output_type": "stream",
     "text": [
      "[[     0      0      0      0      0      0      0      0      0      0\n",
      "       0      0]\n",
      " [     0      0      0      0      0      0      0      0      0      0\n",
      "       0      0]\n",
      " [     0      0      0      0      0      0      0      0      0      0\n",
      "       0      0]\n",
      " [     0      0      0      0      0      0      0      0      0      0\n",
      "       0      0]\n",
      " [     0      0      0      0      0      0      0      0      0      0\n",
      "       0      0]\n",
      " [     0      0      0      0      0      0      0      0      0      0\n",
      "       0      0]\n",
      " [     0      0      0      0      0      0      0      0      0      0\n",
      "       0      0]\n",
      " [   246    667    533   1175   2547   1139   1471 102214    359    122\n",
      "   30354   5145]\n",
      " [     0      0      0      0      0      0      0      0      0      0\n",
      "       0      0]\n",
      " [     0      0      0      0      0      0      0      0      0      0\n",
      "       0      0]\n",
      " [   293    761    528   1074   2476   1185   1364  22329    403     95\n",
      "   32022   4949]\n",
      " [     0      0      0      0      0      0      0      0      0      0\n",
      "       0      0]]\n"
     ]
    }
   ],
   "source": [
    "#confusing matrix on the first model\n",
    "print me.confusion_matrix(predinv, train_y)"
   ]
  },
  {
   "cell_type": "code",
   "execution_count": 201,
   "metadata": {
    "collapsed": false
   },
   "outputs": [
    {
     "data": {
      "text/plain": [
       "0.93311345461019157"
      ]
     },
     "execution_count": 201,
     "metadata": {},
     "output_type": "execute_result"
    }
   ],
   "source": [
    "import sklearn.metrics as me\n",
    "me.accuracy_score(pred, le.inverse_transform(train_y))"
   ]
  },
  {
   "cell_type": "code",
   "execution_count": 70,
   "metadata": {
    "collapsed": false
   },
   "outputs": [
    {
     "name": "stdout",
     "output_type": "stream",
     "text": [
      "Index([u'id', u'date_account_created', u'timestamp_first_active',\n",
      "       u'date_first_booking', u'gender', u'age', u'signup_method',\n",
      "       u'signup_flow', u'language', u'affiliate_channel',\n",
      "       u'affiliate_provider', u'first_affiliate_tracked', u'signup_app',\n",
      "       u'first_device_type', u'first_browser', u'country_destination',\n",
      "       u'lag_account_created', u'lag_first_active',\n",
      "       u'lag_account_created_first_active', u'bookings',\n",
      "       u'population_in_thousands', u'sum_secs_elapsed', u'counts'],\n",
      "      dtype='object')\n",
      "Index([u'id', u'date_account_created', u'timestamp_first_active',\n",
      "       u'date_first_booking', u'gender', u'age', u'signup_method',\n",
      "       u'signup_flow', u'language', u'affiliate_channel',\n",
      "       u'affiliate_provider', u'first_affiliate_tracked', u'signup_app',\n",
      "       u'first_device_type', u'first_browser',\n",
      "       u'lag_account_created_first_active', u'sum_secs_elapsed', u'counts'],\n",
      "      dtype='object')\n"
     ]
    }
   ],
   "source": [
    "print train_m.columns\n",
    "print test_m.columns"
   ]
  },
  {
   "cell_type": "code",
   "execution_count": 576,
   "metadata": {
    "collapsed": false,
    "scrolled": true
   },
   "outputs": [],
   "source": [
    "from sklearn import tree\n",
    "tree_model = tree.DecisionTreeClassifier()\n"
   ]
  },
  {
   "cell_type": "code",
   "execution_count": 623,
   "metadata": {
    "collapsed": false
   },
   "outputs": [],
   "source": [
    "#dictionary to get rid of the f in the feature number when calling model.get_fscore()\n",
    "import re\n",
    "def ranked (dic):\n",
    "    redic = {}\n",
    "    for b,d in dic.items():\n",
    "        redic[int(re.findall('f(\\d*)',b)[0])] = d\n",
    "    return redic"
   ]
  },
  {
   "cell_type": "code",
   "execution_count": 637,
   "metadata": {
    "collapsed": false
   },
   "outputs": [
    {
     "name": "stdout",
     "output_type": "stream",
     "text": [
      "OrderedDict([(0, 4), (1, 27), (2, 10), (3, 59), (4, 5), (5, 21), (6, 13), (7, 8), (9, 3), (10, 12), (12, 8), (14, 8), (15, 3), (16, 15), (18, 5), (20, 9), (22, 1), (26, 1), (27, 7), (28, 41), (29, 18), (30, 38), (31, 28), (32, 2), (33, 2), (34, 6), (35, 10), (36, 10), (37, 4), (38, 2), (39, 3), (43, 1), (44, 142), (45, 237), (46, 93), (47, 18), (50, 25), (51, 18), (52, 9), (53, 38), (54, 26), (56, 1), (61, 25), (69, 21), (73, 9), (80, 4), (90, 16), (102, 6), (103, 2), (104, 7), (105, 70), (106, 18), (108, 20), (109, 24), (110, 10), (111, 36), (112, 39), (113, 87), (116, 1), (122, 22), (124, 23), (125, 7), (127, 9), (132, 9), (134, 2), (143, 6), (144, 4), (145, 10), (146, 72), (147, 5), (148, 125), (149, 96), (150, 54), (153, 75)])\n",
      "27\n"
     ]
    }
   ],
   "source": [
    "#getting rid of f in feature number when calling model.f_score od is f_number and associated importance\n",
    "franking = ranked(model.get_fscore())\n",
    "import collections\n",
    "od = collections.OrderedDict(sorted(franking.items()))\n",
    "print od\n",
    "\n",
    "print od[1]"
   ]
  },
  {
   "cell_type": "code",
   "execution_count": 638,
   "metadata": {
    "collapsed": false
   },
   "outputs": [
    {
     "name": "stdout",
     "output_type": "stream",
     "text": [
      "affiliate_channel=api 4\n",
      "affiliate_channel=content 27\n",
      "affiliate_channel=direct 10\n",
      "affiliate_channel=other 59\n",
      "affiliate_channel=remarketing 5\n",
      "affiliate_channel=sem-brand 21\n",
      "affiliate_channel=sem-non-brand 13\n",
      "affiliate_channel=seo 8\n",
      "affiliate_provider=bing 3\n",
      "affiliate_provider=craigslist 12\n",
      "affiliate_provider=direct 8\n",
      "affiliate_provider=facebook 8\n",
      "affiliate_provider=facebook-open-graph 3\n",
      "affiliate_provider=google 15\n",
      "affiliate_provider=meetup 5\n",
      "affiliate_provider=other 9\n",
      "affiliate_provider=vast 1\n",
      "age=100+ 1\n",
      "age=15-19 7\n",
      "age=20-24 41\n",
      "age=25-29 18\n",
      "age=30-34 38\n",
      "age=35-39 28\n",
      "age=40-44 2\n",
      "age=45-49 2\n",
      "age=50-54 6\n",
      "age=55-59 10\n",
      "age=60-64 10\n",
      "age=65-69 4\n",
      "age=70-74 2\n",
      "age=75-79 3\n",
      "age=95-99 1\n",
      "age=NA 142\n",
      "counts 237\n",
      "first_affiliate_tracked 93\n",
      "first_affiliate_tracked=linked 18\n",
      "first_affiliate_tracked=omg 25\n",
      "first_affiliate_tracked=product 18\n",
      "first_affiliate_tracked=tracked-other 9\n",
      "first_affiliate_tracked=untracked 38\n",
      "first_browser=-unknown- 26\n",
      "first_browser=Android Browser 1\n",
      "first_browser=Chrome 25\n",
      "first_browser=Firefox 21\n",
      "first_browser=IE 9\n",
      "first_browser=Mobile Safari 4\n",
      "first_browser=Safari 16\n",
      "first_device_type=Android Phone 6\n",
      "first_device_type=Android Tablet 2\n",
      "first_device_type=Desktop (Other) 7\n",
      "first_device_type=Mac Desktop 70\n",
      "first_device_type=Other/Unknown 18\n",
      "first_device_type=Windows Desktop 20\n",
      "first_device_type=iPad 24\n",
      "first_device_type=iPhone 10\n",
      "gender=FEMALE 36\n",
      "gender=MALE 39\n",
      "gender=NA 87\n",
      "lag_account_created_first_active=greater 1 day 1\n",
      "language=de 22\n",
      "language=en 23\n",
      "language=es 7\n",
      "language=fr 9\n",
      "language=it 9\n",
      "language=ko 2\n",
      "language=zh 6\n",
      "signup_app=Android 4\n",
      "signup_app=Moweb 10\n",
      "signup_app=Web 72\n",
      "signup_app=iOS 5\n",
      "signup_flow 125\n",
      "signup_method=basic 96\n",
      "signup_method=facebook 54\n",
      "sum_secs_elapsed 75\n"
     ]
    }
   ],
   "source": [
    "#print out the features and feature importance\n",
    "listfeatures = list(vec.feature_names_)\n",
    "for i in od:\n",
    "    print listfeatures[i], od[i]"
   ]
  },
  {
   "cell_type": "code",
   "execution_count": null,
   "metadata": {
    "collapsed": true
   },
   "outputs": [],
   "source": []
  }
 ],
 "metadata": {
  "kernelspec": {
   "display_name": "Python 2",
   "language": "python",
   "name": "python2"
  },
  "language_info": {
   "codemirror_mode": {
    "name": "ipython",
    "version": 2
   },
   "file_extension": ".py",
   "mimetype": "text/x-python",
   "name": "python",
   "nbconvert_exporter": "python",
   "pygments_lexer": "ipython2",
   "version": "2.7.11"
  }
 },
 "nbformat": 4,
 "nbformat_minor": 0
}
