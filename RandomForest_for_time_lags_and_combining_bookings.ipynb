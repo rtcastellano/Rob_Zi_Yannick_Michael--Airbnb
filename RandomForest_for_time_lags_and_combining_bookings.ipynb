{
 "cells": [
  {
   "cell_type": "code",
   "execution_count": 1,
   "metadata": {
    "collapsed": true
   },
   "outputs": [],
   "source": [
    "import pandas as pd\n",
    "import numpy as np\n",
    "import math\n",
    "import datetime"
   ]
  },
  {
   "cell_type": "code",
   "execution_count": 2,
   "metadata": {
    "collapsed": true
   },
   "outputs": [],
   "source": [
    "train_m = pd.read_csv('train_starting.csv', index_col=0)\n",
    "test_m = pd.read_csv('test_starting.csv', index_col = 0)"
   ]
  },
  {
   "cell_type": "code",
   "execution_count": 3,
   "metadata": {
    "collapsed": false
   },
   "outputs": [
    {
     "name": "stdout",
     "output_type": "stream",
     "text": [
      "['id', 'date_account_created', 'timestamp_first_active', 'date_first_booking', 'gender', 'age', 'signup_method', 'signup_flow', 'language', 'affiliate_channel', 'affiliate_provider', 'first_affiliate_tracked', 'signup_app', 'first_device_type', 'first_browser', 'country_destination', 'lag_account_created', 'lag_first_active', 'lag_account_created_first_active', 'bookings', 'population_in_thousands', 'sum_secs_elapsed', 'counts']\n"
     ]
    }
   ],
   "source": [
    "print list(train_m.columns)"
   ]
  },
  {
   "cell_type": "code",
   "execution_count": 4,
   "metadata": {
    "collapsed": false
   },
   "outputs": [
    {
     "data": {
      "text/plain": [
       "[None, None, None, None, None, None, None, None, None, None]"
      ]
     },
     "execution_count": 4,
     "metadata": {},
     "output_type": "execute_result"
    }
   ],
   "source": [
    "#the toremove is a list of columns to be removed from the original dataset\n",
    "excl = list(train_m.columns)\n",
    "toremove = ['id', 'date_account_created', 'timestamp_first_active', 'date_first_booking', 'population_in_thousands',\n",
    "            'lag_account_created', 'lag_first_active', 'bookings', 'lag_account_created_first_active', \n",
    "            'country_destination'] \n",
    "map(lambda x: excl.remove(x), toremove)"
   ]
  },
  {
   "cell_type": "code",
   "execution_count": 5,
   "metadata": {
    "collapsed": true
   },
   "outputs": [],
   "source": [
    "train_xcl = train_m.loc[:, excl]\n",
    "test_xcl = test_m.loc[:, excl]"
   ]
  },
  {
   "cell_type": "code",
   "execution_count": 6,
   "metadata": {
    "collapsed": false
   },
   "outputs": [
    {
     "name": "stdout",
     "output_type": "stream",
     "text": [
      "Index([u'gender', u'age', u'signup_method', u'signup_flow', u'language',\n",
      "       u'affiliate_channel', u'affiliate_provider', u'first_affiliate_tracked',\n",
      "       u'signup_app', u'first_device_type', u'first_browser',\n",
      "       u'sum_secs_elapsed', u'counts'],\n",
      "      dtype='object')\n",
      "Index([u'gender', u'age', u'signup_method', u'signup_flow', u'language',\n",
      "       u'affiliate_channel', u'affiliate_provider', u'first_affiliate_tracked',\n",
      "       u'signup_app', u'first_device_type', u'first_browser',\n",
      "       u'sum_secs_elapsed', u'counts'],\n",
      "      dtype='object')\n"
     ]
    }
   ],
   "source": [
    "print train_xcl.columns\n",
    "print test_xcl.columns"
   ]
  },
  {
   "cell_type": "code",
   "execution_count": 7,
   "metadata": {
    "collapsed": true
   },
   "outputs": [],
   "source": [
    "train_y_lag_creat = train_m.loc[:,'lag_account_created']"
   ]
  },
  {
   "cell_type": "code",
   "execution_count": 8,
   "metadata": {
    "collapsed": true
   },
   "outputs": [],
   "source": [
    "train_y_lag_first_act = train_m.loc[:,'lag_first_active']"
   ]
  },
  {
   "cell_type": "code",
   "execution_count": 9,
   "metadata": {
    "collapsed": false
   },
   "outputs": [
    {
     "name": "stderr",
     "output_type": "stream",
     "text": [
      "/usr/local/lib/python2.7/site-packages/pandas/core/frame.py:840: UserWarning: DataFrame columns are not unique, some columns will be omitted.\n",
      "  \"columns will be omitted.\", UserWarning)\n"
     ]
    }
   ],
   "source": [
    "from sklearn.feature_extraction import DictVectorizer\n",
    "\n",
    "frames = [train_xcl, test_xcl]\n",
    "all_data = pd.concat(frames)\n",
    "all_data = all_data.T.to_dict().values()\n",
    "train_xdic = train_xcl.T.to_dict().values()\n",
    "test_xdic = test_xcl.T.to_dict().values()\n",
    "\n",
    "vec = DictVectorizer()\n",
    "vec.fit(all_data)\n",
    "train_xvec = vec.transform(train_xdic)\n",
    "test_xvec = vec.transform(test_xdic)\n"
   ]
  },
  {
   "cell_type": "code",
   "execution_count": 10,
   "metadata": {
    "collapsed": false
   },
   "outputs": [
    {
     "name": "stdout",
     "output_type": "stream",
     "text": [
      "(213451, 151)\n",
      "(62096, 151)\n"
     ]
    }
   ],
   "source": [
    "trainx_vecmiss = pd.DataFrame(train_xvec.toarray()).fillna(-1)\n",
    "testx_vecmiss = pd.DataFrame(test_xvec.toarray()).fillna(-1)\n",
    "print trainx_vecmiss.shape\n",
    "print testx_vecmiss.shape"
   ]
  },
  {
   "cell_type": "code",
   "execution_count": 11,
   "metadata": {
    "collapsed": false
   },
   "outputs": [
    {
     "data": {
      "text/plain": [
       "12.288205727444508"
      ]
     },
     "execution_count": 11,
     "metadata": {},
     "output_type": "execute_result"
    }
   ],
   "source": [
    "np.sqrt(151)"
   ]
  },
  {
   "cell_type": "code",
   "execution_count": 85,
   "metadata": {
    "collapsed": false
   },
   "outputs": [
    {
     "data": {
      "text/plain": [
       "GridSearchCV(cv=5, error_score='raise',\n",
       "       estimator=RandomForestClassifier(bootstrap=True, class_weight=None, criterion='gini',\n",
       "            max_depth=None, max_features='auto', max_leaf_nodes=None,\n",
       "            min_samples_leaf=1, min_samples_split=2,\n",
       "            min_weight_fraction_leaf=0.0, n_estimators=10, n_jobs=-1,\n",
       "            oob_score=True, random_state=None, verbose=0, warm_start=False),\n",
       "       fit_params={}, iid=True, n_jobs=-1,\n",
       "       param_grid=[{'n_estimators': [200], 'max_features': [12, 'auto', 14]}],\n",
       "       pre_dispatch='2*n_jobs', refit=True, scoring='accuracy', verbose=0)"
      ]
     },
     "execution_count": 85,
     "metadata": {},
     "output_type": "execute_result"
    }
   ],
   "source": [
    "from sklearn import ensemble\n",
    "import sklearn.grid_search as gs\n",
    "randomForest = ensemble.RandomForestClassifier(n_jobs = -1, oob_score=True)\n",
    "\n",
    "np.random.seed(1)\n",
    "grid_para_forest = [{\"n_estimators\": [200], \"max_features\": [12, 'auto', 14]}]\n",
    "grid_search_forest = gs.GridSearchCV(randomForest, grid_para_forest, scoring='accuracy', cv=5, n_jobs = -1)\n",
    "grid_search_forest.fit(trainx_vecmiss, train_y_lag_creat)"
   ]
  },
  {
   "cell_type": "code",
   "execution_count": 88,
   "metadata": {
    "collapsed": false
   },
   "outputs": [
    {
     "name": "stdout",
     "output_type": "stream",
     "text": [
      "RandomForestClassifier(bootstrap=True, class_weight=None, criterion='gini',\n",
      "            max_depth=None, max_features='auto', max_leaf_nodes=None,\n",
      "            min_samples_leaf=1, min_samples_split=2,\n",
      "            min_weight_fraction_leaf=0.0, n_estimators=200, n_jobs=-1,\n",
      "            oob_score=True, random_state=None, verbose=0, warm_start=False)\n",
      "0.59701758249\n"
     ]
    }
   ],
   "source": [
    "print grid_search_forest.best_estimator_\n",
    "print grid_search_forest.best_score_"
   ]
  },
  {
   "cell_type": "code",
   "execution_count": 89,
   "metadata": {
    "collapsed": false
   },
   "outputs": [],
   "source": [
    "#predict train\n",
    "from sklearn import cross_validation\n",
    "\n",
    "randomForeststack = ensemble.RandomForestClassifier(n_jobs = -1, oob_score=True, n_estimators = 200, \\\n",
    "                                                    max_features = 'auto' )\n",
    "\n",
    "predtrain_lag_creat = cross_validation.cross_val_predict(randomForeststack, trainx_vecmiss, \\\n",
    "                                                         train_y_lag_creat, cv=5, n_jobs = -1)"
   ]
  },
  {
   "cell_type": "code",
   "execution_count": 90,
   "metadata": {
    "collapsed": false
   },
   "outputs": [
    {
     "data": {
      "text/plain": [
       "(213451,)"
      ]
     },
     "execution_count": 90,
     "metadata": {},
     "output_type": "execute_result"
    }
   ],
   "source": [
    "predtrain_lag_creat.shape"
   ]
  },
  {
   "cell_type": "code",
   "execution_count": 91,
   "metadata": {
    "collapsed": false
   },
   "outputs": [
    {
     "data": {
      "text/plain": [
       "(213451,)"
      ]
     },
     "execution_count": 91,
     "metadata": {},
     "output_type": "execute_result"
    }
   ],
   "source": [
    "train_y_lag_creat.shape"
   ]
  },
  {
   "cell_type": "code",
   "execution_count": 92,
   "metadata": {
    "collapsed": false
   },
   "outputs": [
    {
     "data": {
      "text/plain": [
       "0.59690514450623333"
      ]
     },
     "execution_count": 92,
     "metadata": {},
     "output_type": "execute_result"
    }
   ],
   "source": [
    "from sklearn import metrics\n",
    "metrics.accuracy_score(train_y_lag_creat, predtrain_lag_creat)"
   ]
  },
  {
   "cell_type": "code",
   "execution_count": 93,
   "metadata": {
    "collapsed": false
   },
   "outputs": [
    {
     "name": "stdout",
     "output_type": "stream",
     "text": [
      "(62096,)\n",
      "['NB' 'NB' 'NB' 'NB' 'NB']\n"
     ]
    }
   ],
   "source": [
    "#predict test lag account created\n",
    "predtest_lag_creat = grid_search_forest.predict(testx_vecmiss)\n",
    "\n",
    "print predtest_lag_creat.shape\n",
    "print predtest_lag_creat[0:5]"
   ]
  },
  {
   "cell_type": "code",
   "execution_count": 94,
   "metadata": {
    "collapsed": false
   },
   "outputs": [
    {
     "data": {
      "text/plain": [
       "GridSearchCV(cv=5, error_score='raise',\n",
       "       estimator=RandomForestClassifier(bootstrap=True, class_weight=None, criterion='gini',\n",
       "            max_depth=None, max_features='auto', max_leaf_nodes=None,\n",
       "            min_samples_leaf=1, min_samples_split=2,\n",
       "            min_weight_fraction_leaf=0.0, n_estimators=10, n_jobs=-1,\n",
       "            oob_score=True, random_state=None, verbose=0, warm_start=False),\n",
       "       fit_params={}, iid=True, n_jobs=-1,\n",
       "       param_grid=[{'n_estimators': [200], 'max_features': ['auto']}],\n",
       "       pre_dispatch='2*n_jobs', refit=True, scoring='accuracy', verbose=0)"
      ]
     },
     "execution_count": 94,
     "metadata": {},
     "output_type": "execute_result"
    }
   ],
   "source": [
    "from sklearn import ensemble\n",
    "import sklearn.grid_search as gs\n",
    "randomForest_lag_first_act = ensemble.RandomForestClassifier(n_jobs = -1, oob_score=True)\n",
    "\n",
    "np.random.seed(1)\n",
    "grid_para_forest_act = [{\"n_estimators\": [200], \"max_features\": ['auto']}]\n",
    "grid_search_forest_first_act = gs.GridSearchCV(randomForest_lag_first_act, grid_para_forest_act, scoring='accuracy', \\\n",
    "                                     cv=5, n_jobs = -1)\n",
    "grid_search_forest_first_act.fit(trainx_vecmiss, train_y_lag_first_act)"
   ]
  },
  {
   "cell_type": "code",
   "execution_count": 95,
   "metadata": {
    "collapsed": false
   },
   "outputs": [
    {
     "data": {
      "text/plain": [
       "0.56761973474005745"
      ]
     },
     "execution_count": 95,
     "metadata": {},
     "output_type": "execute_result"
    }
   ],
   "source": [
    "grid_search_forest_first_act.best_score_"
   ]
  },
  {
   "cell_type": "code",
   "execution_count": 96,
   "metadata": {
    "collapsed": false
   },
   "outputs": [
    {
     "name": "stdout",
     "output_type": "stream",
     "text": [
      "RandomForestClassifier(bootstrap=True, class_weight=None, criterion='gini',\n",
      "            max_depth=None, max_features='auto', max_leaf_nodes=None,\n",
      "            min_samples_leaf=1, min_samples_split=2,\n",
      "            min_weight_fraction_leaf=0.0, n_estimators=200, n_jobs=-1,\n",
      "            oob_score=True, random_state=None, verbose=0, warm_start=False)\n"
     ]
    }
   ],
   "source": [
    "print grid_search_forest_first_act.best_estimator_"
   ]
  },
  {
   "cell_type": "code",
   "execution_count": 97,
   "metadata": {
    "collapsed": true
   },
   "outputs": [],
   "source": [
    "randomForeststack_first_act = ensemble.RandomForestClassifier(n_jobs = -1, oob_score=True, n_estimators = 200, \\\n",
    "                                                    max_features = 'auto' )\n",
    "\n",
    "predtrain_lag_first_act = cross_validation.cross_val_predict(randomForeststack_first_act, trainx_vecmiss, \\\n",
    "                                                         train_y_lag_first_act, cv=5, n_jobs = -1)"
   ]
  },
  {
   "cell_type": "code",
   "execution_count": 98,
   "metadata": {
    "collapsed": false
   },
   "outputs": [
    {
     "name": "stdout",
     "output_type": "stream",
     "text": [
      "(213451,)\n",
      "(213451,)\n"
     ]
    }
   ],
   "source": [
    "print train_y_lag_first_act.shape\n",
    "print predtrain_lag_first_act.shape"
   ]
  },
  {
   "cell_type": "code",
   "execution_count": 99,
   "metadata": {
    "collapsed": false
   },
   "outputs": [
    {
     "name": "stdout",
     "output_type": "stream",
     "text": [
      "(62096,)\n",
      "['NB' 'NB' 'NB' 'NB' 'NB']\n"
     ]
    }
   ],
   "source": [
    "predtest_lag_first_act = grid_search_forest.predict(testx_vecmiss)\n",
    "\n",
    "print predtest_lag_first_act.shape\n",
    "print predtest_lag_first_act[0:5]"
   ]
  },
  {
   "cell_type": "code",
   "execution_count": 100,
   "metadata": {
    "collapsed": false
   },
   "outputs": [
    {
     "name": "stdout",
     "output_type": "stream",
     "text": [
      "(62096, 151)\n"
     ]
    }
   ],
   "source": [
    "print testx_vecmiss.shape"
   ]
  },
  {
   "cell_type": "code",
   "execution_count": null,
   "metadata": {
    "collapsed": true
   },
   "outputs": [],
   "source": [
    "#predtrain_lag_creat\n",
    "#predtest_lag_creat\n",
    "#predtrain_lag_first_act\n",
    "#predtest_lag_first_act"
   ]
  },
  {
   "cell_type": "code",
   "execution_count": 103,
   "metadata": {
    "collapsed": true
   },
   "outputs": [],
   "source": [
    "trainlags = pd.DataFrame({'id': train_m.id, 'predtrain_lag_creat':predtrain_lag_creat, \\\n",
    "                          'predtrain_lag_first_act':predtrain_lag_first_act})\n",
    "#trainlags.to_csv(\"trainlags.csv\", index=False)"
   ]
  },
  {
   "cell_type": "code",
   "execution_count": 104,
   "metadata": {
    "collapsed": true
   },
   "outputs": [],
   "source": [
    "testlags = pd.DataFrame({'id': test_m.id, 'predtest_lag_creat':predtest_lag_creat, \\\n",
    "                          'predtest_lag_first_act':predtest_lag_first_act})\n",
    "\n",
    "#testlags.to_csv(\"testlags.csv\", index=False)"
   ]
  },
  {
   "cell_type": "code",
   "execution_count": 186,
   "metadata": {
    "collapsed": true
   },
   "outputs": [],
   "source": [
    "trainbookingsdf = pd.read_csv('bkgs.stacked.train.csv', index_col=0)\n",
    "testbookingsdf = pd.read_csv('bkgs.stacked.test.csv', index_col=0)"
   ]
  },
  {
   "cell_type": "code",
   "execution_count": 187,
   "metadata": {
    "collapsed": false
   },
   "outputs": [
    {
     "name": "stdout",
     "output_type": "stream",
     "text": [
      "Index([u'lag_account_created', u'lag_first_active',\n",
      "       u'lag_account_created_first_active', u'gender', u'age',\n",
      "       u'signup_method', u'signup_flow', u'language', u'affiliate_channel',\n",
      "       u'affiliate_provider', u'first_affiliate_tracked', u'signup_app',\n",
      "       u'first_device_type', u'first_browser', u'sum_secs_elapsed', u'counts',\n",
      "       u'bookings', u'country_destination'],\n",
      "      dtype='object')\n",
      "Index([u'lag_account_created_first_active', u'gender', u'age',\n",
      "       u'signup_method', u'signup_flow', u'language', u'affiliate_channel',\n",
      "       u'affiliate_provider', u'first_affiliate_tracked', u'signup_app',\n",
      "       u'first_device_type', u'first_browser', u'sum_secs_elapsed', u'counts',\n",
      "       u'bookings'],\n",
      "      dtype='object')\n"
     ]
    }
   ],
   "source": [
    "print trainbookingsdf.columns\n",
    "print testbookingsdf.columns"
   ]
  },
  {
   "cell_type": "code",
   "execution_count": 188,
   "metadata": {
    "collapsed": false
   },
   "outputs": [
    {
     "name": "stdout",
     "output_type": "stream",
     "text": [
      "(213451, 18)\n",
      "(62096, 15)\n"
     ]
    }
   ],
   "source": [
    "print trainbookingsdf.shape\n",
    "print testbookingsdf.shape"
   ]
  },
  {
   "cell_type": "code",
   "execution_count": 191,
   "metadata": {
    "collapsed": false
   },
   "outputs": [
    {
     "data": {
      "text/plain": [
       "[None, None, None, None, None, None, None, None]"
      ]
     },
     "execution_count": 191,
     "metadata": {},
     "output_type": "execute_result"
    }
   ],
   "source": [
    "exclupdated = list(train_m.columns)\n",
    "toremoveupdated = [ 'date_account_created', 'timestamp_first_active', 'date_first_booking', 'population_in_thousands',\n",
    "            'lag_account_created', 'lag_first_active', 'bookings', 'lag_account_created_first_active'] \n",
    "map(lambda x: exclupdated.remove(x), toremoveupdated)"
   ]
  },
  {
   "cell_type": "code",
   "execution_count": 192,
   "metadata": {
    "collapsed": false
   },
   "outputs": [
    {
     "data": {
      "text/plain": [
       "['id',\n",
       " 'gender',\n",
       " 'age',\n",
       " 'signup_method',\n",
       " 'signup_flow',\n",
       " 'language',\n",
       " 'affiliate_channel',\n",
       " 'affiliate_provider',\n",
       " 'first_affiliate_tracked',\n",
       " 'signup_app',\n",
       " 'first_device_type',\n",
       " 'first_browser',\n",
       " 'country_destination',\n",
       " 'sum_secs_elapsed',\n",
       " 'counts']"
      ]
     },
     "execution_count": 192,
     "metadata": {},
     "output_type": "execute_result"
    }
   ],
   "source": [
    "exclupdated"
   ]
  },
  {
   "cell_type": "code",
   "execution_count": 209,
   "metadata": {
    "collapsed": false
   },
   "outputs": [],
   "source": [
    "updatedtrain = train_m.copy()\n",
    "updatedtrain = updatedtrain.loc[:, exclupdated]\n",
    "updatedtrain['pred_lag_account_created'] = predtrain_lag_creat\n",
    "updatedtrain['pred_lag_first_active'] = predtrain_lag_first_act\n",
    "updatedtrain['pred_bookings'] = list(trainbookingsdf.bookings[:])"
   ]
  },
  {
   "cell_type": "code",
   "execution_count": 210,
   "metadata": {
    "collapsed": false
   },
   "outputs": [
    {
     "name": "stdout",
     "output_type": "stream",
     "text": [
      "(213451, 18)\n",
      "Index([u'id', u'gender', u'age', u'signup_method', u'signup_flow', u'language',\n",
      "       u'affiliate_channel', u'affiliate_provider', u'first_affiliate_tracked',\n",
      "       u'signup_app', u'first_device_type', u'first_browser',\n",
      "       u'country_destination', u'sum_secs_elapsed', u'counts',\n",
      "       u'pred_lag_account_created', u'pred_lag_first_active',\n",
      "       u'pred_bookings'],\n",
      "      dtype='object')\n"
     ]
    }
   ],
   "source": [
    "print updatedtrain.shape\n",
    "print updatedtrain.columns"
   ]
  },
  {
   "cell_type": "code",
   "execution_count": 211,
   "metadata": {
    "collapsed": false
   },
   "outputs": [
    {
     "data": {
      "text/html": [
       "<div>\n",
       "<table border=\"1\" class=\"dataframe\">\n",
       "  <thead>\n",
       "    <tr style=\"text-align: right;\">\n",
       "      <th></th>\n",
       "      <th>id</th>\n",
       "      <th>gender</th>\n",
       "      <th>age</th>\n",
       "      <th>signup_method</th>\n",
       "      <th>signup_flow</th>\n",
       "      <th>language</th>\n",
       "      <th>affiliate_channel</th>\n",
       "      <th>affiliate_provider</th>\n",
       "      <th>first_affiliate_tracked</th>\n",
       "      <th>signup_app</th>\n",
       "      <th>first_device_type</th>\n",
       "      <th>first_browser</th>\n",
       "      <th>country_destination</th>\n",
       "      <th>sum_secs_elapsed</th>\n",
       "      <th>counts</th>\n",
       "      <th>pred_lag_account_created</th>\n",
       "      <th>pred_lag_first_active</th>\n",
       "      <th>pred_bookings</th>\n",
       "    </tr>\n",
       "  </thead>\n",
       "  <tbody>\n",
       "    <tr>\n",
       "      <th>0</th>\n",
       "      <td>gxn3p5htnn</td>\n",
       "      <td>NaN</td>\n",
       "      <td>NaN</td>\n",
       "      <td>facebook</td>\n",
       "      <td>0</td>\n",
       "      <td>en</td>\n",
       "      <td>direct</td>\n",
       "      <td>direct</td>\n",
       "      <td>untracked</td>\n",
       "      <td>Web</td>\n",
       "      <td>Mac Desktop</td>\n",
       "      <td>Chrome</td>\n",
       "      <td>NDF</td>\n",
       "      <td>NaN</td>\n",
       "      <td>NaN</td>\n",
       "      <td>NB</td>\n",
       "      <td>NB</td>\n",
       "      <td>NB</td>\n",
       "    </tr>\n",
       "    <tr>\n",
       "      <th>1</th>\n",
       "      <td>820tgsjxq7</td>\n",
       "      <td>MALE</td>\n",
       "      <td>35-39</td>\n",
       "      <td>facebook</td>\n",
       "      <td>0</td>\n",
       "      <td>en</td>\n",
       "      <td>seo</td>\n",
       "      <td>google</td>\n",
       "      <td>untracked</td>\n",
       "      <td>Web</td>\n",
       "      <td>Mac Desktop</td>\n",
       "      <td>Chrome</td>\n",
       "      <td>NDF</td>\n",
       "      <td>NaN</td>\n",
       "      <td>NaN</td>\n",
       "      <td>same day</td>\n",
       "      <td>before</td>\n",
       "      <td>early</td>\n",
       "    </tr>\n",
       "    <tr>\n",
       "      <th>2</th>\n",
       "      <td>4ft3gnwmtx</td>\n",
       "      <td>FEMALE</td>\n",
       "      <td>55-59</td>\n",
       "      <td>basic</td>\n",
       "      <td>3</td>\n",
       "      <td>en</td>\n",
       "      <td>direct</td>\n",
       "      <td>direct</td>\n",
       "      <td>untracked</td>\n",
       "      <td>Web</td>\n",
       "      <td>Windows Desktop</td>\n",
       "      <td>IE</td>\n",
       "      <td>US</td>\n",
       "      <td>NaN</td>\n",
       "      <td>NaN</td>\n",
       "      <td>greater 1 day</td>\n",
       "      <td>greater 1 day</td>\n",
       "      <td>NB</td>\n",
       "    </tr>\n",
       "  </tbody>\n",
       "</table>\n",
       "</div>"
      ],
      "text/plain": [
       "           id  gender    age signup_method  signup_flow language  \\\n",
       "0  gxn3p5htnn     NaN    NaN      facebook            0       en   \n",
       "1  820tgsjxq7    MALE  35-39      facebook            0       en   \n",
       "2  4ft3gnwmtx  FEMALE  55-59         basic            3       en   \n",
       "\n",
       "  affiliate_channel affiliate_provider first_affiliate_tracked signup_app  \\\n",
       "0            direct             direct               untracked        Web   \n",
       "1               seo             google               untracked        Web   \n",
       "2            direct             direct               untracked        Web   \n",
       "\n",
       "  first_device_type first_browser country_destination  sum_secs_elapsed  \\\n",
       "0       Mac Desktop        Chrome                 NDF               NaN   \n",
       "1       Mac Desktop        Chrome                 NDF               NaN   \n",
       "2   Windows Desktop            IE                  US               NaN   \n",
       "\n",
       "   counts pred_lag_account_created pred_lag_first_active pred_bookings  \n",
       "0     NaN                       NB                    NB            NB  \n",
       "1     NaN                 same day                before         early  \n",
       "2     NaN            greater 1 day         greater 1 day            NB  "
      ]
     },
     "execution_count": 211,
     "metadata": {},
     "output_type": "execute_result"
    }
   ],
   "source": [
    "updatedtrain.head(3)"
   ]
  },
  {
   "cell_type": "code",
   "execution_count": 212,
   "metadata": {
    "collapsed": false
   },
   "outputs": [
    {
     "name": "stdout",
     "output_type": "stream",
     "text": [
      "Index([u'id', u'date_account_created', u'timestamp_first_active',\n",
      "       u'date_first_booking', u'gender', u'age', u'signup_method',\n",
      "       u'signup_flow', u'language', u'affiliate_channel',\n",
      "       u'affiliate_provider', u'first_affiliate_tracked', u'signup_app',\n",
      "       u'first_device_type', u'first_browser', u'country_destination',\n",
      "       u'lag_account_created', u'lag_first_active',\n",
      "       u'lag_account_created_first_active', u'bookings',\n",
      "       u'population_in_thousands', u'sum_secs_elapsed', u'counts'],\n",
      "      dtype='object')\n"
     ]
    }
   ],
   "source": [
    "print train_m.columns"
   ]
  },
  {
   "cell_type": "code",
   "execution_count": 213,
   "metadata": {
    "collapsed": false
   },
   "outputs": [
    {
     "data": {
      "text/plain": [
       "['id',\n",
       " 'date_account_created',\n",
       " 'timestamp_first_active',\n",
       " 'date_first_booking',\n",
       " 'gender',\n",
       " 'age',\n",
       " 'signup_method',\n",
       " 'signup_flow',\n",
       " 'language',\n",
       " 'affiliate_channel',\n",
       " 'affiliate_provider',\n",
       " 'first_affiliate_tracked',\n",
       " 'signup_app',\n",
       " 'first_device_type',\n",
       " 'first_browser',\n",
       " 'lag_account_created_first_active',\n",
       " 'sum_secs_elapsed',\n",
       " 'counts']"
      ]
     },
     "execution_count": 213,
     "metadata": {},
     "output_type": "execute_result"
    }
   ],
   "source": [
    "list(test_m.columns)"
   ]
  },
  {
   "cell_type": "code",
   "execution_count": 214,
   "metadata": {
    "collapsed": false
   },
   "outputs": [
    {
     "data": {
      "text/plain": [
       "[None, None, None, None]"
      ]
     },
     "execution_count": 214,
     "metadata": {},
     "output_type": "execute_result"
    }
   ],
   "source": [
    "exclupdatedtest = list(test_m.columns)\n",
    "toremoveupdatedtest = [ 'date_account_created', 'timestamp_first_active', 'date_first_booking',\n",
    "                   'lag_account_created_first_active'] \n",
    "map(lambda x: exclupdatedtest.remove(x), toremoveupdatedtest)"
   ]
  },
  {
   "cell_type": "code",
   "execution_count": 215,
   "metadata": {
    "collapsed": false
   },
   "outputs": [
    {
     "data": {
      "text/plain": [
       "['id',\n",
       " 'gender',\n",
       " 'age',\n",
       " 'signup_method',\n",
       " 'signup_flow',\n",
       " 'language',\n",
       " 'affiliate_channel',\n",
       " 'affiliate_provider',\n",
       " 'first_affiliate_tracked',\n",
       " 'signup_app',\n",
       " 'first_device_type',\n",
       " 'first_browser',\n",
       " 'sum_secs_elapsed',\n",
       " 'counts']"
      ]
     },
     "execution_count": 215,
     "metadata": {},
     "output_type": "execute_result"
    }
   ],
   "source": [
    "exclupdatedtest"
   ]
  },
  {
   "cell_type": "code",
   "execution_count": 219,
   "metadata": {
    "collapsed": true
   },
   "outputs": [],
   "source": [
    "testbookingsunfixed = list(testbookingsdf.bookings[:])\n",
    "testbooking = []\n",
    "for i in testbookingsunfixed:\n",
    "    if i == 1:\n",
    "        testbooking.append('early')\n",
    "    elif i ==2:\n",
    "        testbooking.append('NB')\n",
    "    elif i ==3:\n",
    "        testbooking.append('waited')\n",
    "    else:\n",
    "        print \"error!!!!\""
   ]
  },
  {
   "cell_type": "code",
   "execution_count": 223,
   "metadata": {
    "collapsed": true
   },
   "outputs": [],
   "source": [
    "updatedtest = test_m.copy()\n",
    "updatedtest = updatedtest.loc[:, exclupdatedtest]\n",
    "updatedtest['pred_lag_account_created'] = predtest_lag_creat\n",
    "updatedtest['pred_lag_first_active'] = predtest_lag_first_act\n",
    "updatedtest['pred_bookings'] = testbooking"
   ]
  },
  {
   "cell_type": "code",
   "execution_count": 224,
   "metadata": {
    "collapsed": false
   },
   "outputs": [
    {
     "name": "stdout",
     "output_type": "stream",
     "text": [
      "Index([u'id', u'gender', u'age', u'signup_method', u'signup_flow', u'language',\n",
      "       u'affiliate_channel', u'affiliate_provider', u'first_affiliate_tracked',\n",
      "       u'signup_app', u'first_device_type', u'first_browser',\n",
      "       u'sum_secs_elapsed', u'counts', u'pred_lag_account_created',\n",
      "       u'pred_lag_first_active', u'pred_bookings'],\n",
      "      dtype='object')\n"
     ]
    },
    {
     "data": {
      "text/plain": [
       "(62096, 17)"
      ]
     },
     "execution_count": 224,
     "metadata": {},
     "output_type": "execute_result"
    }
   ],
   "source": [
    "print updatedtest.columns\n",
    "updatedtest.shape"
   ]
  },
  {
   "cell_type": "code",
   "execution_count": 225,
   "metadata": {
    "collapsed": false
   },
   "outputs": [
    {
     "data": {
      "text/html": [
       "<div>\n",
       "<table border=\"1\" class=\"dataframe\">\n",
       "  <thead>\n",
       "    <tr style=\"text-align: right;\">\n",
       "      <th></th>\n",
       "      <th>id</th>\n",
       "      <th>gender</th>\n",
       "      <th>age</th>\n",
       "      <th>signup_method</th>\n",
       "      <th>signup_flow</th>\n",
       "      <th>language</th>\n",
       "      <th>affiliate_channel</th>\n",
       "      <th>affiliate_provider</th>\n",
       "      <th>first_affiliate_tracked</th>\n",
       "      <th>signup_app</th>\n",
       "      <th>first_device_type</th>\n",
       "      <th>first_browser</th>\n",
       "      <th>sum_secs_elapsed</th>\n",
       "      <th>counts</th>\n",
       "      <th>pred_lag_account_created</th>\n",
       "      <th>pred_lag_first_active</th>\n",
       "      <th>pred_bookings</th>\n",
       "    </tr>\n",
       "  </thead>\n",
       "  <tbody>\n",
       "    <tr>\n",
       "      <th>0</th>\n",
       "      <td>5uwns89zht</td>\n",
       "      <td>FEMALE</td>\n",
       "      <td>35-39</td>\n",
       "      <td>facebook</td>\n",
       "      <td>0</td>\n",
       "      <td>en</td>\n",
       "      <td>direct</td>\n",
       "      <td>direct</td>\n",
       "      <td>untracked</td>\n",
       "      <td>Moweb</td>\n",
       "      <td>iPhone</td>\n",
       "      <td>Mobile Safari</td>\n",
       "      <td>119187.0</td>\n",
       "      <td>8.0</td>\n",
       "      <td>NB</td>\n",
       "      <td>NB</td>\n",
       "      <td>NB</td>\n",
       "    </tr>\n",
       "    <tr>\n",
       "      <th>1</th>\n",
       "      <td>jtl0dijy2j</td>\n",
       "      <td>NaN</td>\n",
       "      <td>NaN</td>\n",
       "      <td>basic</td>\n",
       "      <td>0</td>\n",
       "      <td>en</td>\n",
       "      <td>direct</td>\n",
       "      <td>direct</td>\n",
       "      <td>untracked</td>\n",
       "      <td>Moweb</td>\n",
       "      <td>iPhone</td>\n",
       "      <td>Mobile Safari</td>\n",
       "      <td>250119.0</td>\n",
       "      <td>19.0</td>\n",
       "      <td>NB</td>\n",
       "      <td>NB</td>\n",
       "      <td>NB</td>\n",
       "    </tr>\n",
       "    <tr>\n",
       "      <th>2</th>\n",
       "      <td>xx0ulgorjt</td>\n",
       "      <td>NaN</td>\n",
       "      <td>NaN</td>\n",
       "      <td>basic</td>\n",
       "      <td>0</td>\n",
       "      <td>en</td>\n",
       "      <td>direct</td>\n",
       "      <td>direct</td>\n",
       "      <td>linked</td>\n",
       "      <td>Web</td>\n",
       "      <td>Windows Desktop</td>\n",
       "      <td>Chrome</td>\n",
       "      <td>975575.0</td>\n",
       "      <td>58.0</td>\n",
       "      <td>NB</td>\n",
       "      <td>NB</td>\n",
       "      <td>NB</td>\n",
       "    </tr>\n",
       "  </tbody>\n",
       "</table>\n",
       "</div>"
      ],
      "text/plain": [
       "           id  gender    age signup_method  signup_flow language  \\\n",
       "0  5uwns89zht  FEMALE  35-39      facebook            0       en   \n",
       "1  jtl0dijy2j     NaN    NaN         basic            0       en   \n",
       "2  xx0ulgorjt     NaN    NaN         basic            0       en   \n",
       "\n",
       "  affiliate_channel affiliate_provider first_affiliate_tracked signup_app  \\\n",
       "0            direct             direct               untracked      Moweb   \n",
       "1            direct             direct               untracked      Moweb   \n",
       "2            direct             direct                  linked        Web   \n",
       "\n",
       "  first_device_type  first_browser  sum_secs_elapsed  counts  \\\n",
       "0            iPhone  Mobile Safari          119187.0     8.0   \n",
       "1            iPhone  Mobile Safari          250119.0    19.0   \n",
       "2   Windows Desktop         Chrome          975575.0    58.0   \n",
       "\n",
       "  pred_lag_account_created pred_lag_first_active pred_bookings  \n",
       "0                       NB                    NB            NB  \n",
       "1                       NB                    NB            NB  \n",
       "2                       NB                    NB            NB  "
      ]
     },
     "execution_count": 225,
     "metadata": {},
     "output_type": "execute_result"
    }
   ],
   "source": [
    "updatedtest.head(3)"
   ]
  },
  {
   "cell_type": "code",
   "execution_count": 226,
   "metadata": {
    "collapsed": true
   },
   "outputs": [],
   "source": [
    "#updatedtrain.to_csv(\"training_for_final_models.csv\", index= 0)\n",
    "#updatedtest.to_csv(\"test_for_final_models.csv\", index = 0)"
   ]
  },
  {
   "cell_type": "code",
   "execution_count": null,
   "metadata": {
    "collapsed": true
   },
   "outputs": [],
   "source": []
  }
 ],
 "metadata": {
  "kernelspec": {
   "display_name": "Python 2",
   "language": "python",
   "name": "python2"
  },
  "language_info": {
   "codemirror_mode": {
    "name": "ipython",
    "version": 2
   },
   "file_extension": ".py",
   "mimetype": "text/x-python",
   "name": "python",
   "nbconvert_exporter": "python",
   "pygments_lexer": "ipython2",
   "version": "2.7.11"
  }
 },
 "nbformat": 4,
 "nbformat_minor": 0
}
