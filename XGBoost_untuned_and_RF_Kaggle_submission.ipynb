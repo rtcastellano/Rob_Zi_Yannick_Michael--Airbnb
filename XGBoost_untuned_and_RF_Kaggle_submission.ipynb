{
 "cells": [
  {
   "cell_type": "code",
   "execution_count": 42,
   "metadata": {
    "collapsed": true
   },
   "outputs": [],
   "source": [
    "import pandas as pd\n",
    "import numpy as np\n",
    "import math\n",
    "import datetime"
   ]
  },
  {
   "cell_type": "code",
   "execution_count": 43,
   "metadata": {
    "collapsed": true
   },
   "outputs": [],
   "source": [
    "train_m = pd.read_csv('training_for_final_models.csv')\n",
    "test_m = pd.read_csv('test_for_final_models.csv')"
   ]
  },
  {
   "cell_type": "code",
   "execution_count": 44,
   "metadata": {
    "collapsed": false
   },
   "outputs": [
    {
     "name": "stdout",
     "output_type": "stream",
     "text": [
      "['id', 'gender', 'age', 'signup_method', 'signup_flow', 'language', 'affiliate_channel', 'affiliate_provider', 'first_affiliate_tracked', 'signup_app', 'first_device_type', 'first_browser', 'country_destination', 'sum_secs_elapsed', 'counts', 'pred_lag_account_created', 'pred_lag_first_active', 'pred_bookings']\n"
     ]
    }
   ],
   "source": [
    "print list(train_m.columns)"
   ]
  },
  {
   "cell_type": "code",
   "execution_count": 45,
   "metadata": {
    "collapsed": false
   },
   "outputs": [
    {
     "data": {
      "text/html": [
       "<div>\n",
       "<table border=\"1\" class=\"dataframe\">\n",
       "  <thead>\n",
       "    <tr style=\"text-align: right;\">\n",
       "      <th></th>\n",
       "      <th>id</th>\n",
       "      <th>gender</th>\n",
       "      <th>age</th>\n",
       "      <th>signup_method</th>\n",
       "      <th>signup_flow</th>\n",
       "      <th>language</th>\n",
       "      <th>affiliate_channel</th>\n",
       "      <th>affiliate_provider</th>\n",
       "      <th>first_affiliate_tracked</th>\n",
       "      <th>signup_app</th>\n",
       "      <th>first_device_type</th>\n",
       "      <th>first_browser</th>\n",
       "      <th>country_destination</th>\n",
       "      <th>sum_secs_elapsed</th>\n",
       "      <th>counts</th>\n",
       "      <th>pred_lag_account_created</th>\n",
       "      <th>pred_lag_first_active</th>\n",
       "      <th>pred_bookings</th>\n",
       "    </tr>\n",
       "  </thead>\n",
       "  <tbody>\n",
       "    <tr>\n",
       "      <th>0</th>\n",
       "      <td>gxn3p5htnn</td>\n",
       "      <td>NaN</td>\n",
       "      <td>NaN</td>\n",
       "      <td>facebook</td>\n",
       "      <td>0</td>\n",
       "      <td>en</td>\n",
       "      <td>direct</td>\n",
       "      <td>direct</td>\n",
       "      <td>untracked</td>\n",
       "      <td>Web</td>\n",
       "      <td>Mac Desktop</td>\n",
       "      <td>Chrome</td>\n",
       "      <td>NDF</td>\n",
       "      <td>NaN</td>\n",
       "      <td>NaN</td>\n",
       "      <td>NB</td>\n",
       "      <td>NB</td>\n",
       "      <td>NB</td>\n",
       "    </tr>\n",
       "    <tr>\n",
       "      <th>1</th>\n",
       "      <td>820tgsjxq7</td>\n",
       "      <td>MALE</td>\n",
       "      <td>35-39</td>\n",
       "      <td>facebook</td>\n",
       "      <td>0</td>\n",
       "      <td>en</td>\n",
       "      <td>seo</td>\n",
       "      <td>google</td>\n",
       "      <td>untracked</td>\n",
       "      <td>Web</td>\n",
       "      <td>Mac Desktop</td>\n",
       "      <td>Chrome</td>\n",
       "      <td>NDF</td>\n",
       "      <td>NaN</td>\n",
       "      <td>NaN</td>\n",
       "      <td>same day</td>\n",
       "      <td>before</td>\n",
       "      <td>early</td>\n",
       "    </tr>\n",
       "    <tr>\n",
       "      <th>2</th>\n",
       "      <td>4ft3gnwmtx</td>\n",
       "      <td>FEMALE</td>\n",
       "      <td>55-59</td>\n",
       "      <td>basic</td>\n",
       "      <td>3</td>\n",
       "      <td>en</td>\n",
       "      <td>direct</td>\n",
       "      <td>direct</td>\n",
       "      <td>untracked</td>\n",
       "      <td>Web</td>\n",
       "      <td>Windows Desktop</td>\n",
       "      <td>IE</td>\n",
       "      <td>US</td>\n",
       "      <td>NaN</td>\n",
       "      <td>NaN</td>\n",
       "      <td>greater 1 day</td>\n",
       "      <td>greater 1 day</td>\n",
       "      <td>NB</td>\n",
       "    </tr>\n",
       "  </tbody>\n",
       "</table>\n",
       "</div>"
      ],
      "text/plain": [
       "           id  gender    age signup_method  signup_flow language  \\\n",
       "0  gxn3p5htnn     NaN    NaN      facebook            0       en   \n",
       "1  820tgsjxq7    MALE  35-39      facebook            0       en   \n",
       "2  4ft3gnwmtx  FEMALE  55-59         basic            3       en   \n",
       "\n",
       "  affiliate_channel affiliate_provider first_affiliate_tracked signup_app  \\\n",
       "0            direct             direct               untracked        Web   \n",
       "1               seo             google               untracked        Web   \n",
       "2            direct             direct               untracked        Web   \n",
       "\n",
       "  first_device_type first_browser country_destination  sum_secs_elapsed  \\\n",
       "0       Mac Desktop        Chrome                 NDF               NaN   \n",
       "1       Mac Desktop        Chrome                 NDF               NaN   \n",
       "2   Windows Desktop            IE                  US               NaN   \n",
       "\n",
       "   counts pred_lag_account_created pred_lag_first_active pred_bookings  \n",
       "0     NaN                       NB                    NB            NB  \n",
       "1     NaN                 same day                before         early  \n",
       "2     NaN            greater 1 day         greater 1 day            NB  "
      ]
     },
     "execution_count": 45,
     "metadata": {},
     "output_type": "execute_result"
    }
   ],
   "source": [
    "train_m.head(3)"
   ]
  },
  {
   "cell_type": "code",
   "execution_count": 119,
   "metadata": {
    "collapsed": false
   },
   "outputs": [
    {
     "data": {
      "text/plain": [
       "[None, None]"
      ]
     },
     "execution_count": 119,
     "metadata": {},
     "output_type": "execute_result"
    }
   ],
   "source": [
    "excl = list(train_m.columns)\n",
    "toremove = ['id', 'country_destination'] \n",
    "map(lambda x: excl.remove(x), toremove)"
   ]
  },
  {
   "cell_type": "code",
   "execution_count": 120,
   "metadata": {
    "collapsed": false
   },
   "outputs": [
    {
     "data": {
      "text/plain": [
       "['gender',\n",
       " 'age',\n",
       " 'signup_method',\n",
       " 'signup_flow',\n",
       " 'language',\n",
       " 'affiliate_channel',\n",
       " 'affiliate_provider',\n",
       " 'first_affiliate_tracked',\n",
       " 'signup_app',\n",
       " 'first_device_type',\n",
       " 'first_browser',\n",
       " 'sum_secs_elapsed',\n",
       " 'counts',\n",
       " 'pred_lag_account_created',\n",
       " 'pred_lag_first_active',\n",
       " 'pred_bookings']"
      ]
     },
     "execution_count": 120,
     "metadata": {},
     "output_type": "execute_result"
    }
   ],
   "source": [
    "excl"
   ]
  },
  {
   "cell_type": "code",
   "execution_count": 121,
   "metadata": {
    "collapsed": true
   },
   "outputs": [],
   "source": [
    "train_xcl = train_m.loc[:, excl]\n",
    "test_xcl = test_m.loc[:, excl]"
   ]
  },
  {
   "cell_type": "code",
   "execution_count": 122,
   "metadata": {
    "collapsed": false
   },
   "outputs": [],
   "source": [
    "from sklearn.feature_extraction import DictVectorizer\n",
    "\n",
    "frames = [train_xcl, test_xcl]\n",
    "all_data = pd.concat(frames)\n",
    "all_data = all_data.T.to_dict().values()\n",
    "train_xdic = train_xcl.T.to_dict().values()\n",
    "test_xdic = test_xcl.T.to_dict().values()\n",
    "\n",
    "vec = DictVectorizer()\n",
    "vec.fit(all_data)\n",
    "train_xvec = vec.transform(train_xdic)\n",
    "test_xvec = vec.transform(test_xdic)"
   ]
  },
  {
   "cell_type": "code",
   "execution_count": 123,
   "metadata": {
    "collapsed": true
   },
   "outputs": [],
   "source": [
    "train_y = train_m.loc[:,'country_destination']"
   ]
  },
  {
   "cell_type": "code",
   "execution_count": 124,
   "metadata": {
    "collapsed": false
   },
   "outputs": [
    {
     "name": "stdout",
     "output_type": "stream",
     "text": [
      "<type 'numpy.ndarray'>\n"
     ]
    }
   ],
   "source": [
    "from sklearn import preprocessing\n",
    "le = preprocessing.LabelEncoder()\n",
    "le.fit(train_y)\n",
    "train_ytrans = le.transform(train_y)\n",
    "print type(train_ytrans)"
   ]
  },
  {
   "cell_type": "code",
   "execution_count": 125,
   "metadata": {
    "collapsed": true
   },
   "outputs": [],
   "source": [
    "import numpy as np\n",
    "from sklearn.preprocessing import LabelBinarizer\n",
    "from sklearn.metrics import make_scorer\n",
    "\n",
    "\n",
    "def dcg_score(y_true, y_score, k=5):\n",
    "    \"\"\"Discounted cumulative gain (DCG) at rank K.\n",
    "\n",
    "    Parameters\n",
    "    ----------\n",
    "    y_true : array, shape = [n_samples]\n",
    "        Ground truth (true relevance labels).\n",
    "    y_score : array, shape = [n_samples, n_classes]\n",
    "        Predicted scores.\n",
    "    k : int\n",
    "        Rank.\n",
    "\n",
    "    Returns\n",
    "    -------\n",
    "    score : float\n",
    "    \"\"\"\n",
    "    order = np.argsort(y_score)[::-1]\n",
    "    y_true = np.take(y_true, order[:k])\n",
    "\n",
    "    gain = 2 ** y_true - 1\n",
    "\n",
    "    discounts = np.log2(np.arange(len(y_true)) + 2)\n",
    "    return np.sum(gain / discounts)\n",
    "\n",
    "\n",
    "def ndcg_score(ground_truth, predictions, k=5):\n",
    "    \"\"\"Normalized discounted cumulative gain (NDCG) at rank K.\n",
    "\n",
    "    Normalized Discounted Cumulative Gain (NDCG) measures the performance of a\n",
    "    recommendation system based on the graded relevance of the recommended\n",
    "    entities. It varies from 0.0 to 1.0, with 1.0 representing the ideal\n",
    "    ranking of the entities.\n",
    "\n",
    "    Parameters\n",
    "    ----------\n",
    "    ground_truth : array, shape = [n_samples]\n",
    "        Ground truth (true labels represended as integers).\n",
    "    predictions : array, shape = [n_samples, n_classes]\n",
    "        Predicted probabilities.\n",
    "    k : int\n",
    "        Rank.\n",
    "\n",
    "    Returns\n",
    "    -------\n",
    "    score : float\n",
    "\n",
    "    Example\n",
    "    -------\n",
    "    >>> ground_truth = [1, 0, 2]\n",
    "    >>> predictions = [[0.15, 0.55, 0.2], [0.7, 0.2, 0.1], [0.06, 0.04, 0.9]]\n",
    "    >>> score = ndcg_score(ground_truth, predictions, k=2)\n",
    "    1.0\n",
    "    >>> predictions = [[0.9, 0.5, 0.8], [0.7, 0.2, 0.1], [0.06, 0.04, 0.9]]\n",
    "    >>> score = ndcg_score(ground_truth, predictions, k=2)\n",
    "    0.6666666666\n",
    "    \"\"\"\n",
    "    lb = LabelBinarizer()\n",
    "    lb.fit(range(len(predictions) + 1))\n",
    "    T = lb.transform(ground_truth)\n",
    "\n",
    "    scores = []\n",
    "\n",
    "    # Iterate over each y_true and compute the DCG score\n",
    "    for y_true, y_score in zip(T, predictions):\n",
    "        actual = dcg_score(y_true, y_score, k)\n",
    "        best = dcg_score(y_true, y_true, k)\n",
    "        score = float(actual) / float(best)\n",
    "        scores.append(score)\n",
    "\n",
    "    return np.mean(scores)\n",
    "\n",
    "\n",
    "# NDCG Scorer function\n",
    "ndcg_scorer = make_scorer(ndcg_score, needs_proba= True, k=5)\n"
   ]
  },
  {
   "cell_type": "code",
   "execution_count": 126,
   "metadata": {
    "collapsed": true
   },
   "outputs": [],
   "source": [
    "import numpy as np\n",
    "import xgboost as xgb\n",
    "model2 = xgb.XGBClassifier(max_depth = 5, learning_rate = 0.1, n_estimators = 30, silent = False, \\\n",
    "                           objective =\"multi:softprob\")"
   ]
  },
  {
   "cell_type": "code",
   "execution_count": 127,
   "metadata": {
    "collapsed": false
   },
   "outputs": [
    {
     "data": {
      "text/plain": [
       "XGBClassifier(base_score=0.5, colsample_bylevel=1, colsample_bytree=1,\n",
       "       gamma=0, learning_rate=0.1, max_delta_step=0, max_depth=5,\n",
       "       min_child_weight=1, missing=None, n_estimators=30, nthread=-1,\n",
       "       objective='multi:softprob', reg_alpha=0, reg_lambda=1,\n",
       "       scale_pos_weight=1, seed=0, silent=False, subsample=1)"
      ]
     },
     "execution_count": 127,
     "metadata": {},
     "output_type": "execute_result"
    }
   ],
   "source": [
    "model2.fit(train_xvec, train_ytrans, verbose = True, eval_metric = \"ndcg@5\")"
   ]
  },
  {
   "cell_type": "code",
   "execution_count": 128,
   "metadata": {
    "collapsed": true
   },
   "outputs": [],
   "source": [
    "pred2 = model2.predict_proba(test_xvec)"
   ]
  },
  {
   "cell_type": "code",
   "execution_count": 129,
   "metadata": {
    "collapsed": false
   },
   "outputs": [
    {
     "name": "stdout",
     "output_type": "stream",
     "text": [
      "<bound method DataFrame.head of                 id country\n",
      "0       5uwns89zht     NDF\n",
      "1       5uwns89zht      US\n",
      "2       5uwns89zht   other\n",
      "3       5uwns89zht      FR\n",
      "4       5uwns89zht      GB\n",
      "5       jtl0dijy2j     NDF\n",
      "6       jtl0dijy2j      US\n",
      "7       jtl0dijy2j   other\n",
      "8       jtl0dijy2j      FR\n",
      "9       jtl0dijy2j      GB\n",
      "10      xx0ulgorjt     NDF\n",
      "11      xx0ulgorjt      US\n",
      "12      xx0ulgorjt   other\n",
      "13      xx0ulgorjt      FR\n",
      "14      xx0ulgorjt      IT\n",
      "15      6c6puo6ix0     NDF\n",
      "16      6c6puo6ix0      US\n",
      "17      6c6puo6ix0   other\n",
      "18      6c6puo6ix0      FR\n",
      "19      6c6puo6ix0      IT\n",
      "20      czqhjk3yfe     NDF\n",
      "21      czqhjk3yfe      US\n",
      "22      czqhjk3yfe   other\n",
      "23      czqhjk3yfe      FR\n",
      "24      czqhjk3yfe      IT\n",
      "25      szx28ujmhf     NDF\n",
      "26      szx28ujmhf      US\n",
      "27      szx28ujmhf   other\n",
      "28      szx28ujmhf      FR\n",
      "29      szx28ujmhf      IT\n",
      "...            ...     ...\n",
      "310450  8yvhec201j     NDF\n",
      "310451  8yvhec201j      US\n",
      "310452  8yvhec201j   other\n",
      "310453  8yvhec201j      FR\n",
      "310454  8yvhec201j      IT\n",
      "310455  cv0na2lf5a     NDF\n",
      "310456  cv0na2lf5a      US\n",
      "310457  cv0na2lf5a   other\n",
      "310458  cv0na2lf5a      FR\n",
      "310459  cv0na2lf5a      IT\n",
      "310460  zp8xfonng8     NDF\n",
      "310461  zp8xfonng8      US\n",
      "310462  zp8xfonng8   other\n",
      "310463  zp8xfonng8      FR\n",
      "310464  zp8xfonng8      GB\n",
      "310465  fa6260ziny     NDF\n",
      "310466  fa6260ziny      US\n",
      "310467  fa6260ziny   other\n",
      "310468  fa6260ziny      FR\n",
      "310469  fa6260ziny      IT\n",
      "310470  87k0fy4ugm     NDF\n",
      "310471  87k0fy4ugm      US\n",
      "310472  87k0fy4ugm   other\n",
      "310473  87k0fy4ugm      FR\n",
      "310474  87k0fy4ugm      IT\n",
      "310475  9uqfg8txu3     NDF\n",
      "310476  9uqfg8txu3      US\n",
      "310477  9uqfg8txu3   other\n",
      "310478  9uqfg8txu3      FR\n",
      "310479  9uqfg8txu3      GB\n",
      "\n",
      "[310480 rows x 2 columns]>\n"
     ]
    }
   ],
   "source": [
    "test_id = test_m['id']\n",
    " \n",
    "ids = []  #list of ids\n",
    "cts = []  #list of countries\n",
    "for i in range(len(test_id)):\n",
    "  idx = test_id[i]\n",
    "  ids += [idx] * 5\n",
    "  cts += le.inverse_transform(np.argsort(pred2[i])[::-1])[:5].tolist()\n",
    " \n",
    "sub1 = pd.DataFrame(np.column_stack((ids, cts)), columns=['id', 'country'])\n",
    "print sub1.head\n",
    "#sub1.to_csv('xgboostonlyaccountcreated.csv',index=False)"
   ]
  },
  {
   "cell_type": "code",
   "execution_count": 130,
   "metadata": {
    "collapsed": true
   },
   "outputs": [],
   "source": [
    "pred3 = model2.predict(test_xvec)"
   ]
  },
  {
   "cell_type": "code",
   "execution_count": null,
   "metadata": {
    "collapsed": false
   },
   "outputs": [
    {
     "data": {
      "text/plain": [
       "{'NDF'}"
      ]
     },
     "execution_count": 131,
     "metadata": {},
     "output_type": "execute_result"
    }
   ],
   "source": [
    "set(le.inverse_transform(pred3))"
   ]
  },
  {
   "cell_type": "code",
   "execution_count": null,
   "metadata": {
    "collapsed": false
   },
   "outputs": [],
   "source": [
    "#Random forest code \n",
    "from sklearn import ensemble\n",
    "import sklearn.grid_search as gs\n",
    "randomForest = ensemble.RandomForestClassifier(n_jobs = -1, oob_score=True)\n",
    "\n",
    "trainx_vecmiss = pd.DataFrame(train_xvec.toarray()).fillna(-1)\n",
    "testx_vecmiss = pd.DataFrame(test_xvec.toarray()).fillna(-1)\n",
    "\n",
    "np.random.seed(1)\n",
    "grid_para_forest = [{\"n_estimators\": [200], \"max_features\": ['auto']}]\n",
    "grid_search_forest = gs.GridSearchCV(randomForest, grid_para_forest, scoring=ndcg_scorer, cv=5, n_jobs = -1)\n",
    "grid_search_forest.fit(trainx_vecmiss, train_ytrans)"
   ]
  },
  {
   "cell_type": "code",
   "execution_count": null,
   "metadata": {
    "collapsed": true
   },
   "outputs": [],
   "source": [
    "predrf = grid_search_forest.predict_proba(testx_vecmiss)"
   ]
  },
  {
   "cell_type": "code",
   "execution_count": null,
   "metadata": {
    "collapsed": false
   },
   "outputs": [],
   "source": [
    "test_id = test_m['id']\n",
    " \n",
    "ids = []  #list of ids\n",
    "cts = []  #list of countries\n",
    "for i in range(len(test_id)):\n",
    "  idx = test_id[i]\n",
    "  ids += [idx] * 5\n",
    "  cts += le.inverse_transform(np.argsort(predrf[i])[::-1])[:5].tolist()\n",
    " \n",
    "sub1 = pd.DataFrame(np.column_stack((ids, cts)), columns=['id', 'country'])\n",
    "print sub1.head\n",
    "sub1.to_csv('rfallpred.csv',index=False)"
   ]
  },
  {
   "cell_type": "code",
   "execution_count": 118,
   "metadata": {
    "collapsed": false
   },
   "outputs": [
    {
     "data": {
      "text/plain": [
       "0.79449259101871328"
      ]
     },
     "execution_count": 118,
     "metadata": {},
     "output_type": "execute_result"
    }
   ],
   "source": [
    "grid_search_forest.best_score_"
   ]
  },
  {
   "cell_type": "code",
   "execution_count": null,
   "metadata": {
    "collapsed": true
   },
   "outputs": [],
   "source": []
  }
 ],
 "metadata": {
  "kernelspec": {
   "display_name": "Python 2",
   "language": "python",
   "name": "python2"
  },
  "language_info": {
   "codemirror_mode": {
    "name": "ipython",
    "version": 2
   },
   "file_extension": ".py",
   "mimetype": "text/x-python",
   "name": "python",
   "nbconvert_exporter": "python",
   "pygments_lexer": "ipython2",
   "version": "2.7.11"
  }
 },
 "nbformat": 4,
 "nbformat_minor": 0
}
